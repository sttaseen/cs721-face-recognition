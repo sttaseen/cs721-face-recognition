{
 "cells": [
  {
   "cell_type": "code",
   "execution_count": 1,
   "metadata": {},
   "outputs": [
    {
     "data": {
      "image/jpeg": "[encoded data removed]",
      "text/plain": [
       "<IPython.core.display.Image object>"
      ]
     },
     "metadata": {},
     "output_type": "display_data"
    },
    {
     "name": "stdout",
     "output_type": "stream",
     "text": [
      "Webcam ready!\n",
      "Saved image: ./captured_images/photo_0.jpeg\n",
      "Saved image: ./captured_images/photo_1.jpeg\n",
      "Saved image: ./captured_images/photo_2.jpeg\n",
      "Saved image: ./captured_images/photo_3.jpeg\n",
      "Saved image: ./captured_images/photo_4.jpeg\n"
     ]
    }
   ],
   "source": [
    "import cv2\n",
    "from IPython.display import display, Image\n",
    "import time\n",
    "import torch\n",
    "import torch.nn as nn\n",
    "from torchvision import models, transforms\n",
    "from PIL import Image as PILImage\n",
    "import os\n",
    "\n",
    "# Initialize the camera using OpenCV.\n",
    "camera = cv2.VideoCapture(0)\n",
    "camera.set(cv2.CAP_PROP_FRAME_WIDTH, 320)\n",
    "camera.set(cv2.CAP_PROP_FRAME_HEIGHT, 240)\n",
    "display_handle = display(None, display_id=True)\n",
    "if not camera.isOpened():\n",
    "    print(\"Error: Could not open webcam.\")\n",
    "else:\n",
    "    print('Webcam ready!')\n",
    "\n",
    "# Load model and checkpoint\n",
    "num_classes = 2\n",
    "checkpoint = './ryan_albaro_uribe_resnet34.pth'\n",
    "model = models.resnet34(pretrained=False)\n",
    "model.fc = nn.Linear(model.fc.in_features, num_classes)\n",
    "# model.load_state_dict(torch.load(checkpoint))\n",
    "\n",
    "# using GPU if available\n",
    "device = torch.device(\"cuda\" if torch.cuda.is_available() else \"cpu\")\n",
    "model = model.to(device)\n",
    "\n",
    "# Define the transformations\n",
    "transform = transforms.Compose([\n",
    "    transforms.Resize((224, 224)),  # Resize the image\n",
    "    transforms.ToTensor(),  # Convert the image to a PyTorch tensor\n",
    "    transforms.Normalize(mean=[0.436, 0.385, 0.345], std=[0.296, 0.270, 0.261])  # Normalize\n",
    "])\n",
    "\n",
    "# Set model to evaluation mode\n",
    "model.eval()\n",
    "\n",
    "# Create a directory to save photos if it doesn't exist\n",
    "output_dir = './input'\n",
    "if not os.path.exists(output_dir):\n",
    "    os.makedirs(output_dir)\n",
    "\n",
    "# Camera capture loop\n",
    "with torch.no_grad():\n",
    "    image_count = 0  # Counter for saved images\n",
    "    while camera.isOpened():\n",
    "        try:\n",
    "            # Read the camera image\n",
    "            ret, frame = camera.read()\n",
    "            if not ret:\n",
    "                print(\"Failed to capture frame\")\n",
    "                break\n",
    "\n",
    "            # Convert to PIL Image for transformations\n",
    "            frame_rgb = cv2.cvtColor(frame, cv2.COLOR_BGR2RGB)\n",
    "            pil_image = PILImage.fromarray(frame_rgb)\n",
    "\n",
    "            # Apply transformations\n",
    "            transformed_frame = transform(pil_image).unsqueeze(0).to(device)\n",
    "\n",
    "            # Get the prediction\n",
    "            pred = model(transformed_frame)\n",
    "            pred_class = pred.argmax(1).item()  # Get the predicted class index\n",
    "\n",
    "            # Save the frame to the output directory every 5 seconds\n",
    "            image_filename = f\"{output_dir}/photo_{image_count}.jpeg\"\n",
    "            cv2.imwrite(image_filename, frame)\n",
    "            print(f\"Saved image: {image_filename}\")\n",
    "\n",
    "            # Increment the image count for the next save\n",
    "            image_count += 1\n",
    "\n",
    "            # Display the frame in the notebook (optional)\n",
    "            _, jpeg_frame = cv2.imencode('.jpeg', frame)\n",
    "            display_handle.update(Image(data=jpeg_frame.tobytes()))\n",
    "\n",
    "            # Wait for 5 seconds before capturing the next image\n",
    "            time.sleep(2)\n",
    "\n",
    "        except KeyboardInterrupt:\n",
    "            break\n",
    "\n",
    "# Clean up camera resources\n",
    "camera.release()\n",
    "cv2.destroyAllWindows()\n"
   ]
  },
  {
   "cell_type": "code",
   "execution_count": null,
   "metadata": {},
   "outputs": [],
   "source": []
  }
 ],
 "metadata": {
  "kernelspec": {
   "display_name": "cs721",
   "language": "python",
   "name": "python3"
  },
  "language_info": {
   "codemirror_mode": {
    "name": "ipython",
    "version": 3
   },
   "file_extension": ".py",
   "mimetype": "text/x-python",
   "name": "python",
   "nbconvert_exporter": "python",
   "pygments_lexer": "ipython3",
   "version": "3.8.19"
  }
 },
 "nbformat": 4,
 "nbformat_minor": 2
}
