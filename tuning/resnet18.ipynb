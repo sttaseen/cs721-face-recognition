{
 "cells": [
  {
   "cell_type": "markdown",
   "id": "eecb6a34-b84a-45eb-9854-8567d11f214a",
   "metadata": {},
   "source": [
    "## Imports"
   ]
  },
  {
   "cell_type": "code",
   "execution_count": 1,
   "id": "e6f674b7-7e2a-4dd6-8a88-6e7f38aa1a10",
   "metadata": {},
   "outputs": [],
   "source": [
    "import optuna\n",
    "import torch\n",
    "import torch.nn as nn\n",
    "import torch.optim as optim\n",
    "from torch.utils.data import DataLoader, random_split\n",
    "from torchvision import models, datasets, transforms\n",
    "from utils import train_model, evaluate_model\n",
    "import random\n",
    "import numpy as np"
   ]
  },
  {
   "cell_type": "markdown",
   "id": "3b4a0cc9-2cd1-45ea-bc9f-f53249a02f03",
   "metadata": {},
   "source": [
    "## Set seed for reproducibility"
   ]
  },
  {
   "cell_type": "code",
   "execution_count": 2,
   "id": "ed738b79-178e-4d67-8ab3-031b56bdfda4",
   "metadata": {},
   "outputs": [],
   "source": [
    "def set_seed(seed):\n",
    "    \"\"\"\n",
    "    Set the seed for reproducibility.\n",
    "\n",
    "    Args:\n",
    "        seed (int): Seed value to set for random number generation.\n",
    "    \"\"\"\n",
    "    random.seed(seed)\n",
    "    np.random.seed(seed)\n",
    "    torch.manual_seed(seed)\n",
    "    if torch.cuda.is_available():\n",
    "        torch.cuda.manual_seed_all(seed)\n",
    "\n",
    "# Set seed to be 42\n",
    "set_seed(42)"
   ]
  },
  {
   "cell_type": "markdown",
   "id": "9abbe4a0-3870-4e6c-a13f-0ea56135e021",
   "metadata": {},
   "source": [
    "## Resnet-18"
   ]
  },
  {
   "cell_type": "code",
   "execution_count": 3,
   "id": "ffd4d936-6a21-46bb-86bb-9e0ec1ee758f",
   "metadata": {},
   "outputs": [],
   "source": [
    "# Use CUDA if available\n",
    "device = torch.device('cuda' if torch.cuda.is_available() else 'cpu')\n",
    "\n",
    "# Define the resnet model to use\n",
    "def create_resnet_model(num_classes):\n",
    "    model = models.resnet18(pretrained=False)\n",
    "    model.fc = nn.Linear(model.fc.in_features, num_classes)\n",
    "    return model"
   ]
  },
  {
   "cell_type": "markdown",
   "id": "42c12416-2d24-41f1-925d-bcf5eefc43cb",
   "metadata": {},
   "source": [
    "## Objective Function"
   ]
  },
  {
   "cell_type": "code",
   "execution_count": 4,
   "id": "942be5ba-c77a-49c7-8a93-ffde718761fe",
   "metadata": {},
   "outputs": [],
   "source": [
    "# Set the dataset folder\n",
    "dataset_folder = '../data/lfw/'"
   ]
  },
  {
   "cell_type": "code",
   "execution_count": 5,
   "id": "0d95802b-5672-40ef-b2e9-211163623e00",
   "metadata": {},
   "outputs": [],
   "source": [
    "def objective(trial):\n",
    "    \"\"\"\n",
    "    Objective function for hyperparameter optimization using Optuna.\n",
    "\n",
    "    This function is used by Optuna to suggest and evaluate hyperparameters for training\n",
    "    a ResNet model. It performs the following steps:\n",
    "    1. Suggests values for learning rate, batch size, and weight decay from predefined distributions.\n",
    "    2. Loads and preprocesses the dataset.\n",
    "    3. Creates data loaders for training, validation, and testing.\n",
    "    4. Initializes a ResNet-18 model and sets up the optimizer and loss function.\n",
    "    5. Trains the model using the suggested hyperparameters.\n",
    "    6. Evaluates the model on the validation set and calculates accuracy.\n",
    "    7. Returns the negative validation accuracy (as Optuna minimizes the objective function).\n",
    "\n",
    "    Args:\n",
    "        trial (optuna.Trial): An Optuna trial object used to suggest hyperparameter values.\n",
    "\n",
    "    Returns:\n",
    "        float: The negative validation accuracy of the model, which Optuna aims to minimize.\n",
    "    \"\"\"\n",
    "    # Suggest hyperparameters\n",
    "    lr = trial.suggest_loguniform('lr', 1e-5, 1e-1)  \n",
    "    batch_size = trial.suggest_categorical('batch_size', [16, 32, 64]) \n",
    "    weight_decay = trial.suggest_loguniform('weight_decay', 1e-6, 1e-2) \n",
    "\n",
    "    # Define transforms\n",
    "    transform = transforms.Compose([\n",
    "        transforms.Resize((224, 224)),\n",
    "        transforms.ToTensor(),\n",
    "        transforms.Normalize(mean=[0.43636918, 0.38563913, 0.34477144],\n",
    "                             std=[0.29639485, 0.2698132, 0.26158142])\n",
    "    ])\n",
    "\n",
    "    # Load datasets with 8-1-1 split\n",
    "    full_dataset = datasets.ImageFolder(root=dataset_folder, transform=transform)\n",
    "    train_size = int(0.8 * len(full_dataset))\n",
    "    test_size = len(full_dataset) - train_size\n",
    "    train_dataset, test_dataset = random_split(full_dataset, [train_size, test_size])\n",
    "    val_size = int(0.5 * len(test_dataset))\n",
    "    test_size = len(test_dataset) - val_size\n",
    "    val_dataset, test_dataset = random_split(test_dataset, [val_size, test_size])\n",
    "\n",
    "    # Create dataloaders\n",
    "    train_dataloader = DataLoader(train_dataset, batch_size=batch_size, shuffle=True)\n",
    "    val_dataloader = DataLoader(val_dataset, batch_size=batch_size, shuffle=False)\n",
    "    test_dataloader = DataLoader(test_dataset, batch_size=batch_size, shuffle=False)\n",
    "\n",
    "    # Create model\n",
    "    num_classes = len(full_dataset.classes)\n",
    "    model = create_resnet_model(num_classes)\n",
    "    model.to(device)\n",
    "\n",
    "    # Define optimizer and criterion\n",
    "    criterion = nn.CrossEntropyLoss()\n",
    "    optimizer = optim.Adam(model.parameters(), lr=lr, weight_decay=weight_decay)\n",
    "\n",
    "    # Train model\n",
    "    trained_model = train_model(model, train_dataloader, val_dataloader, num_epochs=50, lr=lr, patience=5)\n",
    "\n",
    "    # Evaluate model\n",
    "    val_accuracy = evaluate_model(trained_model, val_dataloader)[0]\n",
    "    \n",
    "    # Return the negative validation accuracy as Optuna tries to minimize the objective\n",
    "    return 1 - val_accuracy"
   ]
  },
  {
   "cell_type": "markdown",
   "id": "34f01c6c-a252-4404-99c5-42219df40e5a",
   "metadata": {},
   "source": [
    "## Start the Bayesian Optimizer"
   ]
  },
  {
   "cell_type": "code",
   "execution_count": 6,
   "id": "ce74490b-4c2f-48d6-b5e1-fb0fc7444275",
   "metadata": {},
   "outputs": [
    {
     "name": "stderr",
     "output_type": "stream",
     "text": [
      "[I 2024-09-14 17:37:01,759] A new study created in memory with name: no-name-e37d4323-5843-4866-93eb-4140cd9935b2\n",
      "/tmp/ipykernel_1809568/2091348980.py:22: FutureWarning: suggest_loguniform has been deprecated in v3.0.0. This feature will be removed in v6.0.0. See https://github.com/optuna/optuna/releases/tag/v3.0.0. Use suggest_float(..., log=True) instead.\n",
      "  lr = trial.suggest_loguniform('lr', 1e-5, 1e-1)\n",
      "/tmp/ipykernel_1809568/2091348980.py:24: FutureWarning: suggest_loguniform has been deprecated in v3.0.0. This feature will be removed in v6.0.0. See https://github.com/optuna/optuna/releases/tag/v3.0.0. Use suggest_float(..., log=True) instead.\n",
      "  weight_decay = trial.suggest_loguniform('weight_decay', 1e-6, 1e-2)\n"
     ]
    },
    {
     "name": "stdout",
     "output_type": "stream",
     "text": [
      "Epoch 1/50, Train Loss: 2.3551, Val Loss: 2.3452\n",
      "Epoch 2/50, Train Loss: 2.2140, Val Loss: 2.3070\n",
      "Epoch 3/50, Train Loss: 2.1138, Val Loss: 2.2440\n",
      "Epoch 4/50, Train Loss: 2.0140, Val Loss: 2.1864\n",
      "Epoch 5/50, Train Loss: 1.9186, Val Loss: 2.1535\n",
      "Epoch 6/50, Train Loss: 1.8066, Val Loss: 2.1005\n",
      "Epoch 7/50, Train Loss: 1.7036, Val Loss: 2.0454\n",
      "Epoch 8/50, Train Loss: 1.5792, Val Loss: 2.0125\n",
      "Epoch 9/50, Train Loss: 1.4416, Val Loss: 1.9414\n",
      "Epoch 10/50, Train Loss: 1.3211, Val Loss: 1.8960\n",
      "Epoch 11/50, Train Loss: 1.1920, Val Loss: 1.8289\n",
      "Epoch 12/50, Train Loss: 1.0700, Val Loss: 1.8141\n",
      "Epoch 13/50, Train Loss: 0.9423, Val Loss: 1.7763\n",
      "Epoch 14/50, Train Loss: 0.8386, Val Loss: 1.7139\n",
      "Epoch 15/50, Train Loss: 0.7456, Val Loss: 1.6675\n",
      "Epoch 16/50, Train Loss: 0.6538, Val Loss: 1.6551\n",
      "Epoch 17/50, Train Loss: 0.5780, Val Loss: 1.6260\n",
      "Epoch 18/50, Train Loss: 0.5053, Val Loss: 1.6033\n",
      "Epoch 19/50, Train Loss: 0.4516, Val Loss: 1.5919\n",
      "Epoch 20/50, Train Loss: 0.4051, Val Loss: 1.5571\n",
      "Epoch 21/50, Train Loss: 0.3460, Val Loss: 1.5527\n",
      "Epoch 22/50, Train Loss: 0.3103, Val Loss: 1.5491\n",
      "Epoch 23/50, Train Loss: 0.2697, Val Loss: 1.5535\n",
      "Epoch 24/50, Train Loss: 0.2413, Val Loss: 1.5598\n",
      "Epoch 25/50, Train Loss: 0.2150, Val Loss: 1.5575\n",
      "Epoch 26/50, Train Loss: 0.1872, Val Loss: 1.5527\n",
      "Epoch 27/50, Train Loss: 0.1651, Val Loss: 1.5078\n",
      "Epoch 28/50, Train Loss: 0.1475, Val Loss: 1.5272\n",
      "Epoch 29/50, Train Loss: 0.1338, Val Loss: 1.5279\n",
      "Epoch 30/50, Train Loss: 0.1178, Val Loss: 1.5329\n",
      "Epoch 31/50, Train Loss: 0.1066, Val Loss: 1.5263\n",
      "Epoch 32/50, Train Loss: 0.0924, Val Loss: 1.5203\n",
      "Early stopping triggered after 32 epochs\n",
      "Training complete\n"
     ]
    },
    {
     "name": "stderr",
     "output_type": "stream",
     "text": [
      "[I 2024-09-14 17:38:17,593] Trial 0 finished with value: 0.4383561611175537 and parameters: {'lr': 1.511617269436484e-05, 'batch_size': 64, 'weight_decay': 5.35352465955097e-06}. Best is trial 0 with value: 0.4383561611175537.\n"
     ]
    },
    {
     "name": "stdout",
     "output_type": "stream",
     "text": [
      "Accuracy: 0.5616\n",
      "F1 Score: 0.5008\n",
      "Epoch 1/50, Train Loss: 2.2628, Val Loss: 2.1193\n",
      "Epoch 2/50, Train Loss: 1.7776, Val Loss: 1.8128\n",
      "Epoch 3/50, Train Loss: 1.0666, Val Loss: 1.4353\n",
      "Epoch 4/50, Train Loss: 0.4710, Val Loss: 1.2209\n",
      "Epoch 5/50, Train Loss: 0.1855, Val Loss: 1.0550\n",
      "Epoch 6/50, Train Loss: 0.0972, Val Loss: 0.8447\n",
      "Epoch 7/50, Train Loss: 0.0547, Val Loss: 0.8068\n",
      "Epoch 8/50, Train Loss: 0.0322, Val Loss: 0.7934\n",
      "Epoch 9/50, Train Loss: 0.0282, Val Loss: 0.8695\n",
      "Epoch 10/50, Train Loss: 0.0258, Val Loss: 0.8277\n",
      "Epoch 11/50, Train Loss: 0.0174, Val Loss: 0.7471\n",
      "Epoch 12/50, Train Loss: 0.0123, Val Loss: 0.7337\n",
      "Epoch 13/50, Train Loss: 0.0097, Val Loss: 0.7511\n",
      "Epoch 14/50, Train Loss: 0.0094, Val Loss: 0.7883\n",
      "Epoch 15/50, Train Loss: 0.0127, Val Loss: 0.7524\n",
      "Epoch 16/50, Train Loss: 0.0101, Val Loss: 0.8151\n",
      "Epoch 17/50, Train Loss: 0.0088, Val Loss: 0.6969\n",
      "Epoch 18/50, Train Loss: 0.0072, Val Loss: 0.6941\n",
      "Epoch 19/50, Train Loss: 0.0064, Val Loss: 0.7117\n",
      "Epoch 20/50, Train Loss: 0.0068, Val Loss: 0.7717\n",
      "Epoch 21/50, Train Loss: 0.0054, Val Loss: 0.7408\n",
      "Epoch 22/50, Train Loss: 0.0294, Val Loss: 2.0195\n"
     ]
    },
    {
     "name": "stderr",
     "output_type": "stream",
     "text": [
      "[I 2024-09-14 17:39:16,021] Trial 1 finished with value: 0.13013696670532227 and parameters: {'lr': 6.930427671141797e-05, 'batch_size': 16, 'weight_decay': 8.078068221910567e-05}. Best is trial 0 with value: 0.4383561611175537.\n"
     ]
    },
    {
     "name": "stdout",
     "output_type": "stream",
     "text": [
      "Epoch 23/50, Train Loss: 0.5144, Val Loss: 1.8720\n",
      "Early stopping triggered after 23 epochs\n",
      "Training complete\n",
      "Accuracy: 0.8699\n",
      "F1 Score: 0.8111\n",
      "Epoch 1/50, Train Loss: 2.3199, Val Loss: 2.2941\n",
      "Epoch 2/50, Train Loss: 1.9602, Val Loss: 2.0611\n",
      "Epoch 3/50, Train Loss: 1.6168, Val Loss: 1.8162\n",
      "Epoch 4/50, Train Loss: 1.2224, Val Loss: 1.8143\n",
      "Epoch 5/50, Train Loss: 0.8293, Val Loss: 1.5172\n",
      "Epoch 6/50, Train Loss: 0.5040, Val Loss: 1.4310\n",
      "Epoch 7/50, Train Loss: 0.3380, Val Loss: 1.3031\n",
      "Epoch 8/50, Train Loss: 0.2050, Val Loss: 1.3700\n",
      "Epoch 9/50, Train Loss: 0.1243, Val Loss: 1.2729\n",
      "Epoch 10/50, Train Loss: 0.0840, Val Loss: 1.4302\n",
      "Epoch 11/50, Train Loss: 0.0612, Val Loss: 1.2905\n",
      "Epoch 12/50, Train Loss: 0.0427, Val Loss: 1.4879\n",
      "Epoch 13/50, Train Loss: 0.0437, Val Loss: 1.2653\n",
      "Epoch 14/50, Train Loss: 0.0350, Val Loss: 1.5903\n",
      "Epoch 15/50, Train Loss: 0.0230, Val Loss: 1.3438\n",
      "Epoch 16/50, Train Loss: 0.0214, Val Loss: 1.4037\n",
      "Epoch 17/50, Train Loss: 0.0228, Val Loss: 1.2035\n",
      "Epoch 18/50, Train Loss: 0.0175, Val Loss: 1.2755\n",
      "Epoch 19/50, Train Loss: 0.0168, Val Loss: 1.3668\n",
      "Epoch 20/50, Train Loss: 0.0136, Val Loss: 1.3621\n",
      "Epoch 21/50, Train Loss: 0.0115, Val Loss: 1.4267\n",
      "Epoch 22/50, Train Loss: 0.0146, Val Loss: 1.2634\n",
      "Early stopping triggered after 22 epochs\n",
      "Training complete\n"
     ]
    },
    {
     "name": "stderr",
     "output_type": "stream",
     "text": [
      "[I 2024-09-14 17:40:07,123] Trial 2 finished with value: 0.3493150472640991 and parameters: {'lr': 6.148268990726449e-05, 'batch_size': 64, 'weight_decay': 1.2432622012878258e-06}. Best is trial 0 with value: 0.4383561611175537.\n"
     ]
    },
    {
     "name": "stdout",
     "output_type": "stream",
     "text": [
      "Accuracy: 0.6507\n",
      "F1 Score: 0.5331\n",
      "Epoch 1/50, Train Loss: 2.4387, Val Loss: 4.5432\n",
      "Epoch 2/50, Train Loss: 2.1330, Val Loss: 2.0064\n",
      "Epoch 3/50, Train Loss: 1.8104, Val Loss: 3.9511\n",
      "Epoch 4/50, Train Loss: 1.5445, Val Loss: 2.7629\n",
      "Epoch 5/50, Train Loss: 1.2839, Val Loss: 2.7749\n",
      "Epoch 6/50, Train Loss: 1.0702, Val Loss: 2.9438\n",
      "Epoch 7/50, Train Loss: 1.0549, Val Loss: 2.5230\n",
      "Early stopping triggered after 7 epochs\n",
      "Training complete\n"
     ]
    },
    {
     "name": "stderr",
     "output_type": "stream",
     "text": [
      "[I 2024-09-14 17:40:24,415] Trial 3 finished with value: 0.6506849229335785 and parameters: {'lr': 0.0017029581276845121, 'batch_size': 64, 'weight_decay': 1.703445532945909e-05}. Best is trial 3 with value: 0.6506849229335785.\n"
     ]
    },
    {
     "name": "stdout",
     "output_type": "stream",
     "text": [
      "Accuracy: 0.3493\n",
      "F1 Score: 0.2151\n",
      "Epoch 1/50, Train Loss: 3.1192, Val Loss: 1400.1075\n",
      "Epoch 2/50, Train Loss: 2.4644, Val Loss: 20.2167\n",
      "Epoch 3/50, Train Loss: 2.3610, Val Loss: 2.7744\n",
      "Epoch 4/50, Train Loss: 2.2987, Val Loss: 3.0136\n",
      "Epoch 5/50, Train Loss: 2.2947, Val Loss: 2.2716\n",
      "Epoch 6/50, Train Loss: 2.2268, Val Loss: 2.7795\n",
      "Epoch 7/50, Train Loss: 2.1276, Val Loss: 2.3254\n",
      "Epoch 8/50, Train Loss: 2.0766, Val Loss: 2.5004\n",
      "Epoch 9/50, Train Loss: 2.0179, Val Loss: 2.4248\n"
     ]
    },
    {
     "name": "stderr",
     "output_type": "stream",
     "text": [
      "[I 2024-09-14 17:40:48,001] Trial 4 finished with value: 0.9178082197904587 and parameters: {'lr': 0.0077271116644859125, 'batch_size': 64, 'weight_decay': 1.482747450902612e-05}. Best is trial 4 with value: 0.9178082197904587.\n"
     ]
    },
    {
     "name": "stdout",
     "output_type": "stream",
     "text": [
      "Epoch 10/50, Train Loss: 1.9292, Val Loss: 2.3441\n",
      "Early stopping triggered after 10 epochs\n",
      "Training complete\n",
      "Accuracy: 0.0822\n",
      "F1 Score: 0.0678\n",
      "Epoch 1/50, Train Loss: 3.0097, Val Loss: 4.2611\n",
      "Epoch 2/50, Train Loss: 2.4603, Val Loss: 3.4541\n",
      "Epoch 3/50, Train Loss: 2.3341, Val Loss: 2.3725\n",
      "Epoch 4/50, Train Loss: 2.3070, Val Loss: 2.2662\n",
      "Epoch 5/50, Train Loss: 2.2873, Val Loss: 2.4313\n",
      "Epoch 6/50, Train Loss: 2.2769, Val Loss: 2.3859\n",
      "Epoch 7/50, Train Loss: 2.2986, Val Loss: 2.2956\n",
      "Epoch 8/50, Train Loss: 2.2458, Val Loss: 2.4458\n",
      "Epoch 9/50, Train Loss: 2.1919, Val Loss: 2.2047\n",
      "Epoch 10/50, Train Loss: 2.0761, Val Loss: 2.2597\n",
      "Epoch 11/50, Train Loss: 2.0185, Val Loss: 1.9811\n",
      "Epoch 12/50, Train Loss: 1.9402, Val Loss: 2.1807\n",
      "Epoch 13/50, Train Loss: 1.8432, Val Loss: 2.3427\n",
      "Epoch 14/50, Train Loss: 1.7856, Val Loss: 1.8203\n",
      "Epoch 15/50, Train Loss: 1.5717, Val Loss: 1.6156\n",
      "Epoch 16/50, Train Loss: 1.4642, Val Loss: 1.9991\n",
      "Epoch 17/50, Train Loss: 1.3502, Val Loss: 1.8731\n",
      "Epoch 18/50, Train Loss: 1.1708, Val Loss: 1.7302\n",
      "Epoch 19/50, Train Loss: 1.0676, Val Loss: 2.1537\n"
     ]
    },
    {
     "name": "stderr",
     "output_type": "stream",
     "text": [
      "[I 2024-09-14 17:41:32,680] Trial 5 finished with value: 0.6164383590221405 and parameters: {'lr': 0.01179680712372182, 'batch_size': 32, 'weight_decay': 2.0552828343848416e-06}. Best is trial 4 with value: 0.9178082197904587.\n"
     ]
    },
    {
     "name": "stdout",
     "output_type": "stream",
     "text": [
      "Epoch 20/50, Train Loss: 0.8554, Val Loss: 1.7997\n",
      "Early stopping triggered after 20 epochs\n",
      "Training complete\n",
      "Accuracy: 0.3836\n",
      "F1 Score: 0.3498\n",
      "Epoch 1/50, Train Loss: 3.0067, Val Loss: 5.8631\n",
      "Epoch 2/50, Train Loss: 2.3348, Val Loss: 2.3084\n",
      "Epoch 3/50, Train Loss: 2.2869, Val Loss: 2.4860\n",
      "Epoch 4/50, Train Loss: 2.2794, Val Loss: 2.2493\n",
      "Epoch 5/50, Train Loss: 2.2408, Val Loss: 2.2778\n",
      "Epoch 6/50, Train Loss: 2.1987, Val Loss: 2.4723\n",
      "Epoch 7/50, Train Loss: 2.1792, Val Loss: 2.4442\n",
      "Epoch 8/50, Train Loss: 2.1190, Val Loss: 2.6573\n",
      "Epoch 9/50, Train Loss: 1.9981, Val Loss: 2.2448\n",
      "Epoch 10/50, Train Loss: 1.8745, Val Loss: 2.4294\n",
      "Epoch 11/50, Train Loss: 1.7577, Val Loss: 2.0477\n",
      "Epoch 12/50, Train Loss: 1.5711, Val Loss: 2.1188\n",
      "Epoch 13/50, Train Loss: 1.5168, Val Loss: 2.4903\n",
      "Epoch 14/50, Train Loss: 1.3152, Val Loss: 2.1164\n",
      "Epoch 15/50, Train Loss: 1.1847, Val Loss: 2.0411\n",
      "Epoch 16/50, Train Loss: 1.0141, Val Loss: 2.2159\n",
      "Epoch 17/50, Train Loss: 0.9443, Val Loss: 1.8039\n",
      "Epoch 18/50, Train Loss: 0.6972, Val Loss: 1.7990\n",
      "Epoch 19/50, Train Loss: 0.4434, Val Loss: 1.4884\n",
      "Epoch 20/50, Train Loss: 0.4832, Val Loss: 1.6356\n",
      "Epoch 21/50, Train Loss: 0.3931, Val Loss: 2.1891\n",
      "Epoch 22/50, Train Loss: 0.2500, Val Loss: 1.0574\n",
      "Epoch 23/50, Train Loss: 0.1951, Val Loss: 1.1922\n",
      "Epoch 24/50, Train Loss: 0.2101, Val Loss: 1.6461\n",
      "Epoch 25/50, Train Loss: 0.0700, Val Loss: 0.8900\n",
      "Epoch 26/50, Train Loss: 0.0216, Val Loss: 0.9580\n",
      "Epoch 27/50, Train Loss: 0.0326, Val Loss: 1.3491\n",
      "Epoch 28/50, Train Loss: 0.0908, Val Loss: 1.2639\n",
      "Epoch 29/50, Train Loss: 0.1132, Val Loss: 1.8039\n",
      "Epoch 30/50, Train Loss: 0.2678, Val Loss: 2.7367\n",
      "Early stopping triggered after 30 epochs\n",
      "Training complete\n"
     ]
    },
    {
     "name": "stderr",
     "output_type": "stream",
     "text": [
      "[I 2024-09-14 17:42:48,209] Trial 6 finished with value: 0.21232879161834717 and parameters: {'lr': 0.013870436599839638, 'batch_size': 16, 'weight_decay': 2.3282560281817355e-06}. Best is trial 4 with value: 0.9178082197904587.\n"
     ]
    },
    {
     "name": "stdout",
     "output_type": "stream",
     "text": [
      "Accuracy: 0.7877\n",
      "F1 Score: 0.7128\n",
      "Epoch 1/50, Train Loss: 4.8723, Val Loss: 8.3859\n",
      "Epoch 2/50, Train Loss: 2.3265, Val Loss: 2.2953\n",
      "Epoch 3/50, Train Loss: 2.3175, Val Loss: 2.2914\n",
      "Epoch 4/50, Train Loss: 2.3040, Val Loss: 2.3165\n",
      "Epoch 5/50, Train Loss: 2.3120, Val Loss: 2.3189\n",
      "Epoch 6/50, Train Loss: 2.3110, Val Loss: 2.3073\n",
      "Epoch 7/50, Train Loss: 2.3078, Val Loss: 2.2844\n",
      "Epoch 8/50, Train Loss: 2.3102, Val Loss: 2.4322\n",
      "Epoch 9/50, Train Loss: 2.3063, Val Loss: 2.3265\n",
      "Epoch 10/50, Train Loss: 2.3104, Val Loss: 2.2919\n",
      "Epoch 11/50, Train Loss: 2.3083, Val Loss: 2.3121\n",
      "Epoch 12/50, Train Loss: 2.3046, Val Loss: 2.3046\n",
      "Early stopping triggered after 12 epochs\n",
      "Training complete\n"
     ]
    },
    {
     "name": "stderr",
     "output_type": "stream",
     "text": [
      "[I 2024-09-14 17:43:15,513] Trial 7 finished with value: 0.9178082197904587 and parameters: {'lr': 0.08013002216897748, 'batch_size': 32, 'weight_decay': 8.905424906657638e-05}. Best is trial 4 with value: 0.9178082197904587.\n"
     ]
    },
    {
     "name": "stdout",
     "output_type": "stream",
     "text": [
      "Accuracy: 0.0822\n",
      "F1 Score: 0.0401\n",
      "Epoch 1/50, Train Loss: 3.1107, Val Loss: 10.4863\n",
      "Epoch 2/50, Train Loss: 2.4462, Val Loss: 2.3346\n",
      "Epoch 3/50, Train Loss: 2.2990, Val Loss: 2.3127\n",
      "Epoch 4/50, Train Loss: 2.2402, Val Loss: 2.4116\n",
      "Epoch 5/50, Train Loss: 2.2693, Val Loss: 2.1826\n",
      "Epoch 6/50, Train Loss: 2.1753, Val Loss: 2.1671\n",
      "Epoch 7/50, Train Loss: 2.1200, Val Loss: 2.7781\n",
      "Epoch 8/50, Train Loss: 2.0235, Val Loss: 2.2693\n",
      "Epoch 9/50, Train Loss: 1.9840, Val Loss: 1.8688\n",
      "Epoch 10/50, Train Loss: 1.8674, Val Loss: 1.9218\n",
      "Epoch 11/50, Train Loss: 1.7801, Val Loss: 3.3343\n",
      "Epoch 12/50, Train Loss: 1.6898, Val Loss: 1.5923\n",
      "Epoch 13/50, Train Loss: 1.5600, Val Loss: 1.8850\n",
      "Epoch 14/50, Train Loss: 1.5233, Val Loss: 1.5645\n",
      "Epoch 15/50, Train Loss: 1.3369, Val Loss: 1.4143\n",
      "Epoch 16/50, Train Loss: 1.3120, Val Loss: 2.1149\n",
      "Epoch 17/50, Train Loss: 1.1804, Val Loss: 1.4340\n",
      "Epoch 18/50, Train Loss: 1.0466, Val Loss: 1.5452\n",
      "Epoch 19/50, Train Loss: 0.8506, Val Loss: 1.4125\n",
      "Epoch 20/50, Train Loss: 0.7553, Val Loss: 1.5076\n",
      "Epoch 21/50, Train Loss: 0.5824, Val Loss: 1.4701\n",
      "Epoch 22/50, Train Loss: 0.5677, Val Loss: 1.6319\n",
      "Epoch 23/50, Train Loss: 0.5443, Val Loss: 1.7538\n",
      "Epoch 24/50, Train Loss: 0.3291, Val Loss: 1.0632\n",
      "Epoch 25/50, Train Loss: 0.2098, Val Loss: 1.4253\n",
      "Epoch 26/50, Train Loss: 0.1550, Val Loss: 1.1813\n",
      "Epoch 27/50, Train Loss: 0.3627, Val Loss: 1.8455\n",
      "Epoch 28/50, Train Loss: 0.3702, Val Loss: 1.8195\n"
     ]
    },
    {
     "name": "stderr",
     "output_type": "stream",
     "text": [
      "[I 2024-09-14 17:44:19,865] Trial 8 finished with value: 0.3287671208381653 and parameters: {'lr': 0.011663450872659664, 'batch_size': 32, 'weight_decay': 0.002556746135404388}. Best is trial 4 with value: 0.9178082197904587.\n"
     ]
    },
    {
     "name": "stdout",
     "output_type": "stream",
     "text": [
      "Epoch 29/50, Train Loss: 0.2202, Val Loss: 1.2920\n",
      "Early stopping triggered after 29 epochs\n",
      "Training complete\n",
      "Accuracy: 0.6712\n",
      "F1 Score: 0.6224\n",
      "Epoch 1/50, Train Loss: 2.2181, Val Loss: 2.4641\n",
      "Epoch 2/50, Train Loss: 1.5883, Val Loss: 2.1005\n",
      "Epoch 3/50, Train Loss: 0.9227, Val Loss: 2.1774\n",
      "Epoch 4/50, Train Loss: 0.4724, Val Loss: 1.8825\n",
      "Epoch 5/50, Train Loss: 0.1858, Val Loss: 1.2033\n",
      "Epoch 6/50, Train Loss: 0.0850, Val Loss: 1.3582\n",
      "Epoch 7/50, Train Loss: 0.0401, Val Loss: 0.9678\n",
      "Epoch 8/50, Train Loss: 0.0227, Val Loss: 1.1118\n",
      "Epoch 9/50, Train Loss: 0.0137, Val Loss: 1.0726\n",
      "Epoch 10/50, Train Loss: 0.0081, Val Loss: 1.0756\n",
      "Epoch 11/50, Train Loss: 0.0061, Val Loss: 1.0623\n"
     ]
    },
    {
     "name": "stderr",
     "output_type": "stream",
     "text": [
      "[I 2024-09-14 17:44:48,193] Trial 9 finished with value: 0.25342464447021484 and parameters: {'lr': 0.0001838358738151058, 'batch_size': 64, 'weight_decay': 8.48052737610421e-06}. Best is trial 4 with value: 0.9178082197904587.\n"
     ]
    },
    {
     "name": "stdout",
     "output_type": "stream",
     "text": [
      "Epoch 12/50, Train Loss: 0.0056, Val Loss: 1.0046\n",
      "Early stopping triggered after 12 epochs\n",
      "Training complete\n",
      "Accuracy: 0.7466\n",
      "F1 Score: 0.6686\n",
      "Epoch 1/50, Train Loss: 2.4830, Val Loss: 20.7024\n",
      "Epoch 2/50, Train Loss: 2.1210, Val Loss: 5.3838\n",
      "Epoch 3/50, Train Loss: 1.8450, Val Loss: 2.3895\n",
      "Epoch 4/50, Train Loss: 1.5454, Val Loss: 2.0928\n",
      "Epoch 5/50, Train Loss: 1.2789, Val Loss: 2.5593\n",
      "Epoch 6/50, Train Loss: 0.9748, Val Loss: 2.3620\n",
      "Epoch 7/50, Train Loss: 0.7945, Val Loss: 1.5075\n",
      "Epoch 8/50, Train Loss: 0.6319, Val Loss: 1.2519\n",
      "Epoch 9/50, Train Loss: 0.4320, Val Loss: 1.5525\n",
      "Epoch 10/50, Train Loss: 0.5082, Val Loss: 1.1348\n",
      "Epoch 11/50, Train Loss: 0.3059, Val Loss: 1.8514\n",
      "Epoch 12/50, Train Loss: 0.3566, Val Loss: 1.7762\n",
      "Epoch 13/50, Train Loss: 0.1856, Val Loss: 1.0899\n",
      "Epoch 14/50, Train Loss: 0.0780, Val Loss: 0.8388\n",
      "Epoch 15/50, Train Loss: 0.0493, Val Loss: 0.7256\n",
      "Epoch 16/50, Train Loss: 0.0263, Val Loss: 0.5682\n",
      "Epoch 17/50, Train Loss: 0.0129, Val Loss: 0.5420\n",
      "Epoch 18/50, Train Loss: 0.0088, Val Loss: 0.5394\n",
      "Epoch 19/50, Train Loss: 0.0067, Val Loss: 0.5348\n",
      "Epoch 20/50, Train Loss: 0.0223, Val Loss: 0.7644\n",
      "Epoch 21/50, Train Loss: 0.0265, Val Loss: 0.6132\n",
      "Epoch 22/50, Train Loss: 0.0219, Val Loss: 0.4712\n",
      "Epoch 23/50, Train Loss: 0.0087, Val Loss: 0.4747\n",
      "Epoch 24/50, Train Loss: 0.0032, Val Loss: 0.4482\n",
      "Epoch 25/50, Train Loss: 0.0020, Val Loss: 0.4899\n",
      "Epoch 26/50, Train Loss: 0.0019, Val Loss: 0.5347\n",
      "Epoch 27/50, Train Loss: 0.0014, Val Loss: 0.5003\n",
      "Epoch 28/50, Train Loss: 0.0013, Val Loss: 0.4839\n"
     ]
    },
    {
     "name": "stderr",
     "output_type": "stream",
     "text": [
      "[I 2024-09-14 17:45:55,363] Trial 10 finished with value: 0.08219176530838013 and parameters: {'lr': 0.0011836983121030027, 'batch_size': 64, 'weight_decay': 0.0015374715606079475}. Best is trial 4 with value: 0.9178082197904587.\n"
     ]
    },
    {
     "name": "stdout",
     "output_type": "stream",
     "text": [
      "Epoch 29/50, Train Loss: 0.0018, Val Loss: 0.5459\n",
      "Early stopping triggered after 29 epochs\n",
      "Training complete\n",
      "Accuracy: 0.9178\n",
      "F1 Score: 0.8969\n",
      "Epoch 1/50, Train Loss: 3.5124, Val Loss: 11.1229\n",
      "Epoch 2/50, Train Loss: 2.3222, Val Loss: 2.3363\n",
      "Epoch 3/50, Train Loss: 2.3004, Val Loss: 2.2830\n",
      "Epoch 4/50, Train Loss: 2.2978, Val Loss: 2.2825\n",
      "Epoch 5/50, Train Loss: 2.2978, Val Loss: 2.3008\n",
      "Epoch 6/50, Train Loss: 2.2740, Val Loss: 2.3463\n",
      "Epoch 7/50, Train Loss: 2.2732, Val Loss: 2.2482\n",
      "Epoch 8/50, Train Loss: 2.2350, Val Loss: 2.1878\n",
      "Epoch 9/50, Train Loss: 2.2331, Val Loss: 2.1436\n",
      "Epoch 10/50, Train Loss: 2.1567, Val Loss: 2.0026\n",
      "Epoch 11/50, Train Loss: 2.0307, Val Loss: 2.1389\n",
      "Epoch 12/50, Train Loss: 1.9688, Val Loss: 2.1600\n",
      "Epoch 13/50, Train Loss: 1.8484, Val Loss: 1.8261\n",
      "Epoch 14/50, Train Loss: 1.7574, Val Loss: 1.8350\n",
      "Epoch 15/50, Train Loss: 1.6811, Val Loss: 1.5142\n",
      "Epoch 16/50, Train Loss: 1.5037, Val Loss: 1.7766\n",
      "Epoch 17/50, Train Loss: 1.3838, Val Loss: 1.4363\n",
      "Epoch 18/50, Train Loss: 1.2927, Val Loss: 1.4999\n",
      "Epoch 19/50, Train Loss: 1.1441, Val Loss: 1.6896\n",
      "Epoch 20/50, Train Loss: 1.0448, Val Loss: 1.3325\n",
      "Epoch 21/50, Train Loss: 0.9500, Val Loss: 1.2153\n",
      "Epoch 22/50, Train Loss: 0.8694, Val Loss: 1.0496\n",
      "Epoch 23/50, Train Loss: 0.6749, Val Loss: 0.7613\n",
      "Epoch 24/50, Train Loss: 0.5458, Val Loss: 1.0036\n",
      "Epoch 25/50, Train Loss: 0.5615, Val Loss: 0.9074\n",
      "Epoch 26/50, Train Loss: 0.3606, Val Loss: 0.7175\n",
      "Epoch 27/50, Train Loss: 0.3443, Val Loss: 0.4897\n",
      "Epoch 28/50, Train Loss: 0.2060, Val Loss: 0.6623\n",
      "Epoch 29/50, Train Loss: 0.1635, Val Loss: 1.3489\n",
      "Epoch 30/50, Train Loss: 0.1785, Val Loss: 0.9239\n",
      "Epoch 31/50, Train Loss: 0.1635, Val Loss: 0.7656\n",
      "Epoch 32/50, Train Loss: 0.1335, Val Loss: 0.3873\n",
      "Epoch 33/50, Train Loss: 0.2638, Val Loss: 4.1522\n",
      "Epoch 34/50, Train Loss: 0.1602, Val Loss: 0.6506\n",
      "Epoch 35/50, Train Loss: 0.0928, Val Loss: 0.5077\n",
      "Epoch 36/50, Train Loss: 0.0910, Val Loss: 0.6125\n"
     ]
    },
    {
     "name": "stderr",
     "output_type": "stream",
     "text": [
      "[I 2024-09-14 17:47:17,341] Trial 11 finished with value: 0.16438359022140503 and parameters: {'lr': 0.03451630777280685, 'batch_size': 32, 'weight_decay': 0.00020130349283314908}. Best is trial 4 with value: 0.9178082197904587.\n"
     ]
    },
    {
     "name": "stdout",
     "output_type": "stream",
     "text": [
      "Epoch 37/50, Train Loss: 0.0415, Val Loss: 0.3924\n",
      "Early stopping triggered after 37 epochs\n",
      "Training complete\n",
      "Accuracy: 0.8356\n",
      "F1 Score: 0.8243\n",
      "Epoch 1/50, Train Loss: 5.1480, Val Loss: 24.2520\n",
      "Epoch 2/50, Train Loss: 2.3300, Val Loss: 2.4113\n",
      "Epoch 3/50, Train Loss: 2.3092, Val Loss: 2.3069\n",
      "Epoch 4/50, Train Loss: 2.3179, Val Loss: 2.3099\n",
      "Epoch 5/50, Train Loss: 2.3140, Val Loss: 2.3014\n",
      "Epoch 6/50, Train Loss: 2.3131, Val Loss: 2.3508\n",
      "Epoch 7/50, Train Loss: 2.3172, Val Loss: 2.4091\n",
      "Epoch 8/50, Train Loss: 2.3063, Val Loss: 2.3004\n",
      "Epoch 9/50, Train Loss: 2.3002, Val Loss: 2.3157\n",
      "Epoch 10/50, Train Loss: 2.2932, Val Loss: 2.2764\n",
      "Epoch 11/50, Train Loss: 2.3094, Val Loss: 2.3150\n",
      "Epoch 12/50, Train Loss: 2.3072, Val Loss: 2.3089\n",
      "Epoch 13/50, Train Loss: 2.2511, Val Loss: 2.3109\n",
      "Epoch 14/50, Train Loss: 2.1563, Val Loss: 2.1678\n",
      "Epoch 15/50, Train Loss: 2.0201, Val Loss: 1.9809\n",
      "Epoch 16/50, Train Loss: 1.9909, Val Loss: 1.8829\n",
      "Epoch 17/50, Train Loss: 1.9034, Val Loss: 1.8553\n",
      "Epoch 18/50, Train Loss: 1.8819, Val Loss: 1.9460\n",
      "Epoch 19/50, Train Loss: 1.7711, Val Loss: 1.7491\n",
      "Epoch 20/50, Train Loss: 1.7326, Val Loss: 1.7686\n",
      "Epoch 21/50, Train Loss: 1.6614, Val Loss: 1.8619\n",
      "Epoch 22/50, Train Loss: 1.7059, Val Loss: 1.9850\n",
      "Epoch 23/50, Train Loss: 1.6708, Val Loss: 1.8918\n",
      "Epoch 24/50, Train Loss: 1.5709, Val Loss: 1.6523\n",
      "Epoch 25/50, Train Loss: 1.4963, Val Loss: 1.5803\n",
      "Epoch 26/50, Train Loss: 1.5440, Val Loss: 1.5708\n",
      "Epoch 27/50, Train Loss: 1.3811, Val Loss: 1.4587\n",
      "Epoch 28/50, Train Loss: 1.3317, Val Loss: 1.3466\n",
      "Epoch 29/50, Train Loss: 1.1985, Val Loss: 1.7080\n",
      "Epoch 30/50, Train Loss: 1.2660, Val Loss: 2.0998\n",
      "Epoch 31/50, Train Loss: 1.0755, Val Loss: 1.5672\n",
      "Epoch 32/50, Train Loss: 1.0098, Val Loss: 1.3457\n",
      "Epoch 33/50, Train Loss: 0.9054, Val Loss: 1.4065\n",
      "Epoch 34/50, Train Loss: 1.1120, Val Loss: 2.4205\n",
      "Epoch 35/50, Train Loss: 0.9468, Val Loss: 1.2056\n",
      "Epoch 36/50, Train Loss: 0.7306, Val Loss: 1.1093\n",
      "Epoch 37/50, Train Loss: 0.6995, Val Loss: 1.6083\n",
      "Epoch 38/50, Train Loss: 0.7964, Val Loss: 2.8245\n",
      "Epoch 39/50, Train Loss: 0.8734, Val Loss: 1.0194\n",
      "Epoch 40/50, Train Loss: 0.6438, Val Loss: 0.9772\n",
      "Epoch 41/50, Train Loss: 0.4520, Val Loss: 1.0247\n",
      "Epoch 42/50, Train Loss: 0.5391, Val Loss: 1.6038\n",
      "Epoch 43/50, Train Loss: 0.5554, Val Loss: 0.9558\n",
      "Epoch 44/50, Train Loss: 0.4164, Val Loss: 1.2890\n",
      "Epoch 45/50, Train Loss: 0.2948, Val Loss: 0.7467\n",
      "Epoch 46/50, Train Loss: 0.2668, Val Loss: 1.2029\n",
      "Epoch 47/50, Train Loss: 0.3311, Val Loss: 1.0340\n",
      "Epoch 48/50, Train Loss: 0.2112, Val Loss: 1.1052\n",
      "Epoch 49/50, Train Loss: 0.2692, Val Loss: 1.3660\n"
     ]
    },
    {
     "name": "stderr",
     "output_type": "stream",
     "text": [
      "[I 2024-09-14 17:49:08,553] Trial 12 finished with value: 0.301369845867157 and parameters: {'lr': 0.09030902768316615, 'batch_size': 32, 'weight_decay': 6.892715865399447e-05}. Best is trial 4 with value: 0.9178082197904587.\n"
     ]
    },
    {
     "name": "stdout",
     "output_type": "stream",
     "text": [
      "Epoch 50/50, Train Loss: 0.2765, Val Loss: 0.7572\n",
      "Early stopping triggered after 50 epochs\n",
      "Training complete\n",
      "Accuracy: 0.6986\n",
      "F1 Score: 0.6927\n",
      "Epoch 1/50, Train Loss: 2.6675, Val Loss: 8.3269\n",
      "Epoch 2/50, Train Loss: 2.3364, Val Loss: 2.2268\n",
      "Epoch 3/50, Train Loss: 2.2160, Val Loss: 2.2159\n",
      "Epoch 4/50, Train Loss: 2.1578, Val Loss: 2.2443\n",
      "Epoch 5/50, Train Loss: 2.0535, Val Loss: 1.9414\n",
      "Epoch 6/50, Train Loss: 1.9776, Val Loss: 2.1660\n",
      "Epoch 7/50, Train Loss: 1.7669, Val Loss: 1.9554\n",
      "Epoch 8/50, Train Loss: 1.6073, Val Loss: 1.9810\n",
      "Epoch 9/50, Train Loss: 1.4264, Val Loss: 2.5866\n",
      "Epoch 10/50, Train Loss: 1.3628, Val Loss: 1.6434\n",
      "Epoch 11/50, Train Loss: 1.2053, Val Loss: 1.7979\n",
      "Epoch 12/50, Train Loss: 0.9881, Val Loss: 1.3420\n",
      "Epoch 13/50, Train Loss: 0.7136, Val Loss: 1.5517\n",
      "Epoch 14/50, Train Loss: 0.6575, Val Loss: 1.5576\n",
      "Epoch 15/50, Train Loss: 0.4234, Val Loss: 1.3881\n",
      "Epoch 16/50, Train Loss: 0.3731, Val Loss: 2.7329\n"
     ]
    },
    {
     "name": "stderr",
     "output_type": "stream",
     "text": [
      "[I 2024-09-14 17:49:46,833] Trial 13 finished with value: 0.4931507110595703 and parameters: {'lr': 0.002992328881191184, 'batch_size': 32, 'weight_decay': 0.00047355577079242486}. Best is trial 4 with value: 0.9178082197904587.\n"
     ]
    },
    {
     "name": "stdout",
     "output_type": "stream",
     "text": [
      "Epoch 17/50, Train Loss: 0.2557, Val Loss: 2.7538\n",
      "Early stopping triggered after 17 epochs\n",
      "Training complete\n",
      "Accuracy: 0.5068\n",
      "F1 Score: 0.4578\n",
      "Epoch 1/50, Train Loss: 3.9146, Val Loss: 2.3210\n",
      "Epoch 2/50, Train Loss: 2.3118, Val Loss: 2.2404\n",
      "Epoch 3/50, Train Loss: 2.3083, Val Loss: 2.2781\n",
      "Epoch 4/50, Train Loss: 2.2920, Val Loss: 2.2161\n",
      "Epoch 5/50, Train Loss: 2.2745, Val Loss: 2.1719\n",
      "Epoch 6/50, Train Loss: 2.2464, Val Loss: 2.2273\n",
      "Epoch 7/50, Train Loss: 2.2572, Val Loss: 2.2576\n",
      "Epoch 8/50, Train Loss: 2.2573, Val Loss: 2.2758\n",
      "Epoch 9/50, Train Loss: 2.2147, Val Loss: 2.1921\n"
     ]
    },
    {
     "name": "stderr",
     "output_type": "stream",
     "text": [
      "[I 2024-09-14 17:50:12,658] Trial 14 finished with value: 0.6986301243305206 and parameters: {'lr': 0.04747904020597556, 'batch_size': 16, 'weight_decay': 2.987057707119461e-05}. Best is trial 4 with value: 0.9178082197904587.\n"
     ]
    },
    {
     "name": "stdout",
     "output_type": "stream",
     "text": [
      "Epoch 10/50, Train Loss: 2.2646, Val Loss: 2.4104\n",
      "Early stopping triggered after 10 epochs\n",
      "Training complete\n",
      "Accuracy: 0.3014\n",
      "F1 Score: 0.0830\n",
      "Epoch 1/50, Train Loss: 2.8612, Val Loss: 5.8036\n",
      "Epoch 2/50, Train Loss: 2.4498, Val Loss: 3.0171\n",
      "Epoch 3/50, Train Loss: 2.4388, Val Loss: 2.3456\n",
      "Epoch 4/50, Train Loss: 2.3168, Val Loss: 2.2425\n",
      "Epoch 5/50, Train Loss: 2.2534, Val Loss: 2.4327\n",
      "Epoch 6/50, Train Loss: 2.1965, Val Loss: 2.6081\n",
      "Epoch 7/50, Train Loss: 2.0820, Val Loss: 2.3940\n",
      "Epoch 8/50, Train Loss: 1.9642, Val Loss: 2.2183\n",
      "Epoch 9/50, Train Loss: 1.8537, Val Loss: 2.0385\n",
      "Epoch 10/50, Train Loss: 1.8079, Val Loss: 1.7851\n",
      "Epoch 11/50, Train Loss: 1.5599, Val Loss: 2.2071\n",
      "Epoch 12/50, Train Loss: 1.6199, Val Loss: 2.2984\n",
      "Epoch 13/50, Train Loss: 1.5609, Val Loss: 2.0123\n",
      "Epoch 14/50, Train Loss: 1.4732, Val Loss: 1.5958\n",
      "Epoch 15/50, Train Loss: 1.1563, Val Loss: 3.0501\n",
      "Epoch 16/50, Train Loss: 1.0321, Val Loss: 1.7094\n",
      "Epoch 17/50, Train Loss: 0.8564, Val Loss: 1.7991\n",
      "Epoch 18/50, Train Loss: 0.6685, Val Loss: 1.6816\n",
      "Epoch 19/50, Train Loss: 0.7515, Val Loss: 2.4938\n",
      "Early stopping triggered after 19 epochs\n",
      "Training complete\n"
     ]
    },
    {
     "name": "stderr",
     "output_type": "stream",
     "text": [
      "[I 2024-09-14 17:50:57,653] Trial 15 finished with value: 0.6095890402793884 and parameters: {'lr': 0.004301432923705099, 'batch_size': 64, 'weight_decay': 0.00042992963293668257}. Best is trial 4 with value: 0.9178082197904587.\n"
     ]
    },
    {
     "name": "stdout",
     "output_type": "stream",
     "text": [
      "Accuracy: 0.3904\n",
      "F1 Score: 0.3419\n",
      "Epoch 1/50, Train Loss: 5.9601, Val Loss: 54.0888\n",
      "Epoch 2/50, Train Loss: 2.3338, Val Loss: 2.3073\n",
      "Epoch 3/50, Train Loss: 2.3119, Val Loss: 2.3346\n",
      "Epoch 4/50, Train Loss: 2.2982, Val Loss: 2.4519\n",
      "Epoch 5/50, Train Loss: 2.3232, Val Loss: 2.3023\n",
      "Epoch 6/50, Train Loss: 2.2880, Val Loss: 2.3161\n",
      "Epoch 7/50, Train Loss: 2.2946, Val Loss: 2.2768\n",
      "Epoch 8/50, Train Loss: 2.3143, Val Loss: 2.3091\n",
      "Epoch 9/50, Train Loss: 2.2637, Val Loss: 2.4202\n",
      "Epoch 10/50, Train Loss: 2.2353, Val Loss: 2.1617\n",
      "Epoch 11/50, Train Loss: 2.0995, Val Loss: 2.1854\n",
      "Epoch 12/50, Train Loss: 2.0404, Val Loss: 2.3815\n",
      "Epoch 13/50, Train Loss: 2.0249, Val Loss: 2.1267\n",
      "Epoch 14/50, Train Loss: 1.9067, Val Loss: 2.0444\n",
      "Epoch 15/50, Train Loss: 1.7735, Val Loss: 1.8796\n",
      "Epoch 16/50, Train Loss: 1.7740, Val Loss: 2.9182\n",
      "Epoch 17/50, Train Loss: 1.7126, Val Loss: 2.0299\n",
      "Epoch 18/50, Train Loss: 1.6243, Val Loss: 2.0487\n",
      "Epoch 19/50, Train Loss: 1.5092, Val Loss: 1.6401\n",
      "Epoch 20/50, Train Loss: 1.4072, Val Loss: 1.6242\n",
      "Epoch 21/50, Train Loss: 1.3470, Val Loss: 2.1740\n",
      "Epoch 22/50, Train Loss: 1.3105, Val Loss: 1.5884\n",
      "Epoch 23/50, Train Loss: 1.1563, Val Loss: 1.4596\n",
      "Epoch 24/50, Train Loss: 1.1164, Val Loss: 1.7633\n",
      "Epoch 25/50, Train Loss: 1.0569, Val Loss: 1.4638\n",
      "Epoch 26/50, Train Loss: 0.8698, Val Loss: 1.1602\n",
      "Epoch 27/50, Train Loss: 0.6424, Val Loss: 1.3856\n",
      "Epoch 28/50, Train Loss: 0.6217, Val Loss: 1.2178\n",
      "Epoch 29/50, Train Loss: 0.6716, Val Loss: 1.1205\n",
      "Epoch 30/50, Train Loss: 0.4402, Val Loss: 1.2780\n",
      "Epoch 31/50, Train Loss: 0.3686, Val Loss: 1.1360\n",
      "Epoch 32/50, Train Loss: 0.4713, Val Loss: 2.7515\n",
      "Epoch 33/50, Train Loss: 0.5277, Val Loss: 1.2509\n",
      "Epoch 34/50, Train Loss: 0.3590, Val Loss: 0.7735\n",
      "Epoch 35/50, Train Loss: 0.3389, Val Loss: 0.9060\n",
      "Epoch 36/50, Train Loss: 0.2097, Val Loss: 0.9419\n",
      "Epoch 37/50, Train Loss: 0.1678, Val Loss: 1.0535\n",
      "Epoch 38/50, Train Loss: 0.0992, Val Loss: 0.8314\n"
     ]
    },
    {
     "name": "stderr",
     "output_type": "stream",
     "text": [
      "[I 2024-09-14 17:52:23,744] Trial 16 finished with value: 0.2054794430732727 and parameters: {'lr': 0.09370456301840782, 'batch_size': 32, 'weight_decay': 3.0912523832925155e-05}. Best is trial 4 with value: 0.9178082197904587.\n"
     ]
    },
    {
     "name": "stdout",
     "output_type": "stream",
     "text": [
      "Epoch 39/50, Train Loss: 0.0527, Val Loss: 0.8259\n",
      "Early stopping triggered after 39 epochs\n",
      "Training complete\n",
      "Accuracy: 0.7945\n",
      "F1 Score: 0.7541\n",
      "Epoch 1/50, Train Loss: 2.2159, Val Loss: 3.2505\n",
      "Epoch 2/50, Train Loss: 1.5890, Val Loss: 2.1414\n",
      "Epoch 3/50, Train Loss: 1.0270, Val Loss: 3.0094\n",
      "Epoch 4/50, Train Loss: 0.5295, Val Loss: 1.4558\n",
      "Epoch 5/50, Train Loss: 0.2543, Val Loss: 1.2230\n",
      "Epoch 6/50, Train Loss: 0.1522, Val Loss: 1.1429\n",
      "Epoch 7/50, Train Loss: 0.0768, Val Loss: 0.9390\n",
      "Epoch 8/50, Train Loss: 0.0410, Val Loss: 0.9215\n",
      "Epoch 9/50, Train Loss: 0.0931, Val Loss: 1.2078\n",
      "Epoch 10/50, Train Loss: 0.0688, Val Loss: 2.3979\n",
      "Epoch 11/50, Train Loss: 0.0414, Val Loss: 0.7115\n",
      "Epoch 12/50, Train Loss: 0.0171, Val Loss: 0.6820\n",
      "Epoch 13/50, Train Loss: 0.0083, Val Loss: 0.5470\n",
      "Epoch 14/50, Train Loss: 0.0037, Val Loss: 0.4707\n",
      "Epoch 15/50, Train Loss: 0.0026, Val Loss: 0.4505\n",
      "Epoch 16/50, Train Loss: 0.0025, Val Loss: 0.5144\n",
      "Epoch 17/50, Train Loss: 0.0019, Val Loss: 0.4967\n",
      "Epoch 18/50, Train Loss: 0.0017, Val Loss: 0.5056\n",
      "Epoch 19/50, Train Loss: 0.0013, Val Loss: 0.4337\n",
      "Epoch 20/50, Train Loss: 0.0019, Val Loss: 0.4942\n",
      "Epoch 21/50, Train Loss: 0.0026, Val Loss: 0.6630\n",
      "Epoch 22/50, Train Loss: 0.0016, Val Loss: 0.5276\n",
      "Epoch 23/50, Train Loss: 0.0012, Val Loss: 0.4748\n"
     ]
    },
    {
     "name": "stderr",
     "output_type": "stream",
     "text": [
      "[I 2024-09-14 17:53:17,563] Trial 17 finished with value: 0.08904111385345459 and parameters: {'lr': 0.0003931730148858141, 'batch_size': 64, 'weight_decay': 0.00813073523296632}. Best is trial 4 with value: 0.9178082197904587.\n"
     ]
    },
    {
     "name": "stdout",
     "output_type": "stream",
     "text": [
      "Epoch 24/50, Train Loss: 0.0010, Val Loss: 0.4823\n",
      "Early stopping triggered after 24 epochs\n",
      "Training complete\n",
      "Accuracy: 0.9110\n",
      "F1 Score: 0.8898\n",
      "Epoch 1/50, Train Loss: 3.4444, Val Loss: 10.8928\n",
      "Epoch 2/50, Train Loss: 2.3679, Val Loss: 2.5445\n",
      "Epoch 3/50, Train Loss: 2.3104, Val Loss: 2.2650\n",
      "Epoch 4/50, Train Loss: 2.3033, Val Loss: 2.2989\n",
      "Epoch 5/50, Train Loss: 2.2992, Val Loss: 2.2881\n",
      "Epoch 6/50, Train Loss: 2.2952, Val Loss: 2.3966\n",
      "Epoch 7/50, Train Loss: 2.2869, Val Loss: 2.2688\n",
      "Epoch 8/50, Train Loss: 2.2546, Val Loss: 2.2934\n",
      "Early stopping triggered after 8 epochs\n",
      "Training complete\n"
     ]
    },
    {
     "name": "stderr",
     "output_type": "stream",
     "text": [
      "[I 2024-09-14 17:53:35,956] Trial 18 finished with value: 0.8424657583236694 and parameters: {'lr': 0.019648701201025857, 'batch_size': 32, 'weight_decay': 0.0002116933042492716}. Best is trial 4 with value: 0.9178082197904587.\n"
     ]
    },
    {
     "name": "stdout",
     "output_type": "stream",
     "text": [
      "Accuracy: 0.1575\n",
      "F1 Score: 0.0765\n",
      "Epoch 1/50, Train Loss: 2.8176, Val Loss: 2.3783\n",
      "Epoch 2/50, Train Loss: 2.3372, Val Loss: 2.6687\n",
      "Epoch 3/50, Train Loss: 2.2796, Val Loss: 2.2646\n",
      "Epoch 4/50, Train Loss: 2.2275, Val Loss: 2.7008\n",
      "Epoch 5/50, Train Loss: 2.1794, Val Loss: 2.4229\n",
      "Epoch 6/50, Train Loss: 2.0398, Val Loss: 2.4652\n",
      "Epoch 7/50, Train Loss: 1.8710, Val Loss: 3.5169\n",
      "Epoch 8/50, Train Loss: 1.7454, Val Loss: 1.6826\n",
      "Epoch 9/50, Train Loss: 1.6221, Val Loss: 1.8166\n",
      "Epoch 10/50, Train Loss: 1.4629, Val Loss: 1.5596\n",
      "Epoch 11/50, Train Loss: 1.2707, Val Loss: 2.0105\n",
      "Epoch 12/50, Train Loss: 1.1428, Val Loss: 1.3341\n",
      "Epoch 13/50, Train Loss: 0.9197, Val Loss: 1.8103\n",
      "Epoch 14/50, Train Loss: 0.7356, Val Loss: 2.6923\n",
      "Epoch 15/50, Train Loss: 0.6277, Val Loss: 1.4830\n",
      "Epoch 16/50, Train Loss: 0.4226, Val Loss: 1.2468\n",
      "Epoch 17/50, Train Loss: 0.4288, Val Loss: 1.1890\n",
      "Epoch 18/50, Train Loss: 0.4188, Val Loss: 1.3651\n",
      "Epoch 19/50, Train Loss: 0.3570, Val Loss: 1.0895\n",
      "Epoch 20/50, Train Loss: 0.2177, Val Loss: 0.8051\n",
      "Epoch 21/50, Train Loss: 0.1117, Val Loss: 0.7981\n",
      "Epoch 22/50, Train Loss: 0.0811, Val Loss: 0.7900\n",
      "Epoch 23/50, Train Loss: 0.1232, Val Loss: 1.0520\n",
      "Epoch 24/50, Train Loss: 0.2543, Val Loss: 2.2156\n",
      "Epoch 25/50, Train Loss: 0.1745, Val Loss: 0.8557\n",
      "Epoch 26/50, Train Loss: 0.0537, Val Loss: 0.9300\n",
      "Epoch 27/50, Train Loss: 0.0240, Val Loss: 0.7334\n",
      "Epoch 28/50, Train Loss: 0.0202, Val Loss: 0.6111\n",
      "Epoch 29/50, Train Loss: 0.0285, Val Loss: 0.7309\n",
      "Epoch 30/50, Train Loss: 0.0238, Val Loss: 0.6540\n",
      "Epoch 31/50, Train Loss: 0.1563, Val Loss: 1.8070\n",
      "Epoch 32/50, Train Loss: 0.1918, Val Loss: 1.3547\n",
      "Epoch 33/50, Train Loss: 0.1706, Val Loss: 1.1417\n",
      "Early stopping triggered after 33 epochs\n",
      "Training complete\n"
     ]
    },
    {
     "name": "stderr",
     "output_type": "stream",
     "text": [
      "[I 2024-09-14 17:54:57,634] Trial 19 finished with value: 0.10958904027938843 and parameters: {'lr': 0.005609816209993706, 'batch_size': 16, 'weight_decay': 7.493760595746207e-06}. Best is trial 4 with value: 0.9178082197904587.\n"
     ]
    },
    {
     "name": "stdout",
     "output_type": "stream",
     "text": [
      "Accuracy: 0.8904\n",
      "F1 Score: 0.8728\n",
      "Epoch 1/50, Train Loss: 2.2807, Val Loss: 2.5465\n",
      "Epoch 2/50, Train Loss: 1.6035, Val Loss: 3.3253\n",
      "Epoch 3/50, Train Loss: 1.0890, Val Loss: 2.1757\n",
      "Epoch 4/50, Train Loss: 0.6272, Val Loss: 3.2725\n",
      "Epoch 5/50, Train Loss: 0.4062, Val Loss: 1.7672\n",
      "Epoch 6/50, Train Loss: 0.1399, Val Loss: 1.0616\n",
      "Epoch 7/50, Train Loss: 0.0601, Val Loss: 1.3719\n",
      "Epoch 8/50, Train Loss: 0.0325, Val Loss: 0.7291\n",
      "Epoch 9/50, Train Loss: 0.0108, Val Loss: 0.5917\n",
      "Epoch 10/50, Train Loss: 0.0051, Val Loss: 0.5498\n",
      "Epoch 11/50, Train Loss: 0.0066, Val Loss: 0.6144\n",
      "Epoch 12/50, Train Loss: 0.0074, Val Loss: 0.6849\n",
      "Epoch 13/50, Train Loss: 0.0045, Val Loss: 0.6029\n",
      "Epoch 14/50, Train Loss: 0.0028, Val Loss: 0.6161\n"
     ]
    },
    {
     "name": "stderr",
     "output_type": "stream",
     "text": [
      "[I 2024-09-14 17:55:32,058] Trial 20 finished with value: 0.10273975133895874 and parameters: {'lr': 0.0005061922601989434, 'batch_size': 64, 'weight_decay': 3.537335164998154e-05}. Best is trial 4 with value: 0.9178082197904587.\n"
     ]
    },
    {
     "name": "stdout",
     "output_type": "stream",
     "text": [
      "Epoch 15/50, Train Loss: 0.0024, Val Loss: 0.7042\n",
      "Early stopping triggered after 15 epochs\n",
      "Training complete\n",
      "Accuracy: 0.8973\n",
      "F1 Score: 0.8495\n",
      "Epoch 1/50, Train Loss: 3.8135, Val Loss: 8.5596\n",
      "Epoch 2/50, Train Loss: 2.3002, Val Loss: 2.4521\n",
      "Epoch 3/50, Train Loss: 2.3025, Val Loss: 2.3395\n",
      "Epoch 4/50, Train Loss: 2.2996, Val Loss: 2.3281\n",
      "Epoch 5/50, Train Loss: 2.2987, Val Loss: 2.3732\n",
      "Epoch 6/50, Train Loss: 2.2941, Val Loss: 2.3512\n",
      "Epoch 7/50, Train Loss: 2.2988, Val Loss: 2.3094\n",
      "Epoch 8/50, Train Loss: 2.3012, Val Loss: 2.2838\n",
      "Epoch 9/50, Train Loss: 2.2836, Val Loss: 2.2993\n",
      "Epoch 10/50, Train Loss: 2.2893, Val Loss: 2.3158\n",
      "Epoch 11/50, Train Loss: 2.2789, Val Loss: 2.3775\n",
      "Epoch 12/50, Train Loss: 2.2757, Val Loss: 2.5463\n"
     ]
    },
    {
     "name": "stderr",
     "output_type": "stream",
     "text": [
      "[I 2024-09-14 17:56:01,136] Trial 21 finished with value: 0.7123287618160248 and parameters: {'lr': 0.032037677408530904, 'batch_size': 32, 'weight_decay': 0.0002951736579468395}. Best is trial 4 with value: 0.9178082197904587.\n"
     ]
    },
    {
     "name": "stdout",
     "output_type": "stream",
     "text": [
      "Epoch 13/50, Train Loss: 2.2668, Val Loss: 2.6783\n",
      "Early stopping triggered after 13 epochs\n",
      "Training complete\n",
      "Accuracy: 0.2877\n",
      "F1 Score: 0.0896\n",
      "Epoch 1/50, Train Loss: 3.8481, Val Loss: 145.6294\n",
      "Epoch 2/50, Train Loss: 2.6504, Val Loss: 3.0836\n",
      "Epoch 3/50, Train Loss: 2.3272, Val Loss: 2.3585\n",
      "Epoch 4/50, Train Loss: 2.2938, Val Loss: 2.3508\n",
      "Epoch 5/50, Train Loss: 2.2782, Val Loss: 2.4181\n",
      "Epoch 6/50, Train Loss: 2.2627, Val Loss: 2.3013\n",
      "Epoch 7/50, Train Loss: 2.2327, Val Loss: 2.4179\n",
      "Epoch 8/50, Train Loss: 2.2368, Val Loss: 2.3440\n",
      "Epoch 9/50, Train Loss: 2.2094, Val Loss: 2.4525\n",
      "Epoch 10/50, Train Loss: 2.2078, Val Loss: 2.3551\n"
     ]
    },
    {
     "name": "stderr",
     "output_type": "stream",
     "text": [
      "[I 2024-09-14 17:56:27,307] Trial 22 finished with value: 0.9246575310826302 and parameters: {'lr': 0.020086449338045036, 'batch_size': 32, 'weight_decay': 0.00012021422460172736}. Best is trial 22 with value: 0.9246575310826302.\n"
     ]
    },
    {
     "name": "stdout",
     "output_type": "stream",
     "text": [
      "Epoch 11/50, Train Loss: 2.2095, Val Loss: 2.4282\n",
      "Early stopping triggered after 11 epochs\n",
      "Training complete\n",
      "Accuracy: 0.0753\n",
      "F1 Score: 0.0638\n",
      "Epoch 1/50, Train Loss: 2.9520, Val Loss: 53.0955\n",
      "Epoch 2/50, Train Loss: 2.4513, Val Loss: 2.8962\n",
      "Epoch 3/50, Train Loss: 2.3246, Val Loss: 2.9063\n",
      "Epoch 4/50, Train Loss: 2.3139, Val Loss: 2.4327\n",
      "Epoch 5/50, Train Loss: 2.2698, Val Loss: 2.4651\n",
      "Epoch 6/50, Train Loss: 2.2235, Val Loss: 2.7339\n",
      "Epoch 7/50, Train Loss: 2.2309, Val Loss: 2.7258\n",
      "Epoch 8/50, Train Loss: 2.1446, Val Loss: 2.6990\n",
      "Epoch 9/50, Train Loss: 2.0756, Val Loss: 3.9168\n",
      "Early stopping triggered after 9 epochs\n",
      "Training complete\n"
     ]
    },
    {
     "name": "stderr",
     "output_type": "stream",
     "text": [
      "[I 2024-09-14 17:56:49,777] Trial 23 finished with value: 0.897260271012783 and parameters: {'lr': 0.007681905433806987, 'batch_size': 32, 'weight_decay': 8.625834582468772e-05}. Best is trial 22 with value: 0.9246575310826302.\n"
     ]
    },
    {
     "name": "stdout",
     "output_type": "stream",
     "text": [
      "Accuracy: 0.1027\n",
      "F1 Score: 0.0578\n",
      "Epoch 1/50, Train Loss: 3.9576, Val Loss: 5.8196\n",
      "Epoch 2/50, Train Loss: 2.3061, Val Loss: 2.3897\n",
      "Epoch 3/50, Train Loss: 2.3044, Val Loss: 2.4471\n",
      "Epoch 4/50, Train Loss: 2.3017, Val Loss: 2.4218\n",
      "Epoch 5/50, Train Loss: 2.2964, Val Loss: 2.4768\n",
      "Epoch 6/50, Train Loss: 2.3021, Val Loss: 2.4269\n"
     ]
    },
    {
     "name": "stderr",
     "output_type": "stream",
     "text": [
      "[I 2024-09-14 17:57:06,522] Trial 24 finished with value: 0.8630136996507645 and parameters: {'lr': 0.033072369670358016, 'batch_size': 32, 'weight_decay': 1.3327216853147904e-05}. Best is trial 22 with value: 0.9246575310826302.\n"
     ]
    },
    {
     "name": "stdout",
     "output_type": "stream",
     "text": [
      "Epoch 7/50, Train Loss: 2.2959, Val Loss: 2.4079\n",
      "Early stopping triggered after 7 epochs\n",
      "Training complete\n",
      "Accuracy: 0.1370\n",
      "F1 Score: 0.0366\n",
      "Epoch 1/50, Train Loss: 2.6179, Val Loss: 2.8781\n",
      "Epoch 2/50, Train Loss: 2.3855, Val Loss: 2.3777\n",
      "Epoch 3/50, Train Loss: 2.3234, Val Loss: 2.5213\n",
      "Epoch 4/50, Train Loss: 2.2333, Val Loss: 2.4069\n",
      "Epoch 5/50, Train Loss: 2.1419, Val Loss: 2.5833\n",
      "Epoch 6/50, Train Loss: 2.0078, Val Loss: 2.9200\n"
     ]
    },
    {
     "name": "stderr",
     "output_type": "stream",
     "text": [
      "[I 2024-09-14 17:57:23,088] Trial 25 finished with value: 0.9109589010477066 and parameters: {'lr': 0.0025495177932943337, 'batch_size': 32, 'weight_decay': 0.0009648899148588065}. Best is trial 22 with value: 0.9246575310826302.\n"
     ]
    },
    {
     "name": "stdout",
     "output_type": "stream",
     "text": [
      "Epoch 7/50, Train Loss: 1.8749, Val Loss: 2.6005\n",
      "Early stopping triggered after 7 epochs\n",
      "Training complete\n",
      "Accuracy: 0.0890\n",
      "F1 Score: 0.0763\n",
      "Epoch 1/50, Train Loss: 4.1939, Val Loss: 2.7829\n",
      "Epoch 2/50, Train Loss: 2.3188, Val Loss: 2.2985\n",
      "Epoch 3/50, Train Loss: 2.2974, Val Loss: 2.3211\n",
      "Epoch 4/50, Train Loss: 2.2925, Val Loss: 2.3302\n",
      "Epoch 5/50, Train Loss: 2.2916, Val Loss: 2.3891\n",
      "Epoch 6/50, Train Loss: 2.3027, Val Loss: 2.3328\n"
     ]
    },
    {
     "name": "stderr",
     "output_type": "stream",
     "text": [
      "[I 2024-09-14 17:57:39,585] Trial 26 finished with value: 0.8630136996507645 and parameters: {'lr': 0.06615299300923934, 'batch_size': 32, 'weight_decay': 0.00013234028021651037}. Best is trial 22 with value: 0.9246575310826302.\n"
     ]
    },
    {
     "name": "stdout",
     "output_type": "stream",
     "text": [
      "Epoch 7/50, Train Loss: 2.2663, Val Loss: 2.3111\n",
      "Early stopping triggered after 7 epochs\n",
      "Training complete\n",
      "Accuracy: 0.1370\n",
      "F1 Score: 0.0364\n",
      "Epoch 1/50, Train Loss: 3.7163, Val Loss: 5.2618\n",
      "Epoch 2/50, Train Loss: 2.4108, Val Loss: 2.4108\n",
      "Epoch 3/50, Train Loss: 2.3087, Val Loss: 2.3212\n",
      "Epoch 4/50, Train Loss: 2.2933, Val Loss: 2.3630\n",
      "Epoch 5/50, Train Loss: 2.2787, Val Loss: 2.2879\n",
      "Epoch 6/50, Train Loss: 2.2506, Val Loss: 2.7136\n",
      "Epoch 7/50, Train Loss: 2.1883, Val Loss: 2.3848\n",
      "Epoch 8/50, Train Loss: 2.1783, Val Loss: 2.0678\n",
      "Epoch 9/50, Train Loss: 2.0355, Val Loss: 1.8550\n",
      "Epoch 10/50, Train Loss: 1.9222, Val Loss: 1.9906\n",
      "Epoch 11/50, Train Loss: 1.8520, Val Loss: 2.4982\n",
      "Epoch 12/50, Train Loss: 1.8156, Val Loss: 1.5947\n",
      "Epoch 13/50, Train Loss: 1.6491, Val Loss: 1.8692\n",
      "Epoch 14/50, Train Loss: 1.6109, Val Loss: 1.4644\n",
      "Epoch 15/50, Train Loss: 1.5035, Val Loss: 2.5854\n",
      "Epoch 16/50, Train Loss: 1.4895, Val Loss: 1.7106\n",
      "Epoch 17/50, Train Loss: 1.3966, Val Loss: 1.7309\n",
      "Epoch 18/50, Train Loss: 1.1949, Val Loss: 2.3570\n"
     ]
    },
    {
     "name": "stderr",
     "output_type": "stream",
     "text": [
      "[I 2024-09-14 17:58:21,762] Trial 27 finished with value: 0.6849315166473389 and parameters: {'lr': 0.021717677191262504, 'batch_size': 32, 'weight_decay': 4.972645183262924e-05}. Best is trial 22 with value: 0.9246575310826302.\n"
     ]
    },
    {
     "name": "stdout",
     "output_type": "stream",
     "text": [
      "Epoch 19/50, Train Loss: 1.0737, Val Loss: 1.7071\n",
      "Early stopping triggered after 19 epochs\n",
      "Training complete\n",
      "Accuracy: 0.3151\n",
      "F1 Score: 0.3037\n",
      "Epoch 1/50, Train Loss: 2.8707, Val Loss: 2.2782\n",
      "Epoch 2/50, Train Loss: 2.3360, Val Loss: 2.2677\n",
      "Epoch 3/50, Train Loss: 2.2957, Val Loss: 2.2839\n",
      "Epoch 4/50, Train Loss: 2.2684, Val Loss: 2.1935\n",
      "Epoch 5/50, Train Loss: 2.2279, Val Loss: 2.2211\n",
      "Epoch 6/50, Train Loss: 2.1084, Val Loss: 3.0297\n",
      "Epoch 7/50, Train Loss: 2.0487, Val Loss: 2.8985\n",
      "Epoch 8/50, Train Loss: 1.9634, Val Loss: 1.8566\n",
      "Epoch 9/50, Train Loss: 1.8332, Val Loss: 2.0007\n",
      "Epoch 10/50, Train Loss: 1.8218, Val Loss: 1.9974\n",
      "Epoch 11/50, Train Loss: 1.7919, Val Loss: 1.9902\n",
      "Epoch 12/50, Train Loss: 1.6850, Val Loss: 1.8346\n",
      "Epoch 13/50, Train Loss: 1.5975, Val Loss: 1.7552\n",
      "Epoch 14/50, Train Loss: 1.5112, Val Loss: 1.7398\n",
      "Epoch 15/50, Train Loss: 1.3862, Val Loss: 1.3014\n",
      "Epoch 16/50, Train Loss: 1.2573, Val Loss: 1.4589\n",
      "Epoch 17/50, Train Loss: 1.1257, Val Loss: 1.4537\n",
      "Epoch 18/50, Train Loss: 1.0014, Val Loss: 1.1922\n",
      "Epoch 19/50, Train Loss: 0.9214, Val Loss: 1.6173\n",
      "Epoch 20/50, Train Loss: 0.7368, Val Loss: 1.2836\n",
      "Epoch 21/50, Train Loss: 0.6772, Val Loss: 1.1952\n",
      "Epoch 22/50, Train Loss: 0.5227, Val Loss: 1.3686\n",
      "Epoch 23/50, Train Loss: 0.3481, Val Loss: 1.1680\n",
      "Epoch 24/50, Train Loss: 0.2613, Val Loss: 1.0224\n",
      "Epoch 25/50, Train Loss: 0.2336, Val Loss: 1.9491\n",
      "Epoch 26/50, Train Loss: 0.2489, Val Loss: 0.9243\n",
      "Epoch 27/50, Train Loss: 0.1528, Val Loss: 0.9535\n",
      "Epoch 28/50, Train Loss: 0.0916, Val Loss: 1.4328\n",
      "Epoch 29/50, Train Loss: 0.1510, Val Loss: 2.7118\n",
      "Epoch 30/50, Train Loss: 0.1786, Val Loss: 1.8459\n"
     ]
    },
    {
     "name": "stderr",
     "output_type": "stream",
     "text": [
      "[I 2024-09-14 17:59:39,835] Trial 28 finished with value: 0.19178080558776855 and parameters: {'lr': 0.007532836679849194, 'batch_size': 16, 'weight_decay': 1.8465279250761966e-05}. Best is trial 22 with value: 0.9246575310826302.\n"
     ]
    },
    {
     "name": "stdout",
     "output_type": "stream",
     "text": [
      "Epoch 31/50, Train Loss: 0.1449, Val Loss: 1.2599\n",
      "Early stopping triggered after 31 epochs\n",
      "Training complete\n",
      "Accuracy: 0.8082\n",
      "F1 Score: 0.7467\n",
      "Epoch 1/50, Train Loss: 4.1212, Val Loss: 5273.1584\n",
      "Epoch 2/50, Train Loss: 2.4357, Val Loss: 5.5008\n",
      "Epoch 3/50, Train Loss: 2.3849, Val Loss: 2.3357\n",
      "Epoch 4/50, Train Loss: 2.3119, Val Loss: 2.3074\n",
      "Epoch 5/50, Train Loss: 2.2906, Val Loss: 2.3058\n",
      "Epoch 6/50, Train Loss: 2.2773, Val Loss: 2.3200\n",
      "Epoch 7/50, Train Loss: 2.2646, Val Loss: 2.2953\n",
      "Epoch 8/50, Train Loss: 2.2959, Val Loss: 2.2671\n",
      "Epoch 9/50, Train Loss: 2.2544, Val Loss: 2.2904\n",
      "Epoch 10/50, Train Loss: 2.2429, Val Loss: 2.3113\n",
      "Epoch 11/50, Train Loss: 2.2206, Val Loss: 2.3383\n",
      "Epoch 12/50, Train Loss: 2.2135, Val Loss: 2.2589\n",
      "Epoch 13/50, Train Loss: 2.2114, Val Loss: 2.2707\n",
      "Epoch 14/50, Train Loss: 2.1678, Val Loss: 2.2347\n",
      "Epoch 15/50, Train Loss: 2.1715, Val Loss: 2.3931\n",
      "Epoch 16/50, Train Loss: 2.1193, Val Loss: 2.1830\n",
      "Epoch 17/50, Train Loss: 2.0522, Val Loss: 2.6110\n",
      "Epoch 18/50, Train Loss: 2.0670, Val Loss: 2.2496\n",
      "Epoch 19/50, Train Loss: 1.9994, Val Loss: 2.3934\n",
      "Epoch 20/50, Train Loss: 1.7809, Val Loss: 2.2418\n",
      "Epoch 21/50, Train Loss: 1.6947, Val Loss: 2.5447\n",
      "Early stopping triggered after 21 epochs\n",
      "Training complete\n"
     ]
    },
    {
     "name": "stderr",
     "output_type": "stream",
     "text": [
      "[I 2024-09-14 18:00:28,254] Trial 29 finished with value: 0.8835616409778595 and parameters: {'lr': 0.019658979929682453, 'batch_size': 64, 'weight_decay': 3.7416209114882845e-06}. Best is trial 22 with value: 0.9246575310826302.\n"
     ]
    },
    {
     "name": "stdout",
     "output_type": "stream",
     "text": [
      "Accuracy: 0.1164\n",
      "F1 Score: 0.1083\n",
      "Epoch 1/50, Train Loss: 2.3826, Val Loss: 2.3595\n",
      "Epoch 2/50, Train Loss: 2.2313, Val Loss: 2.3131\n",
      "Epoch 3/50, Train Loss: 2.1323, Val Loss: 2.2559\n",
      "Epoch 4/50, Train Loss: 2.0302, Val Loss: 2.2198\n",
      "Epoch 5/50, Train Loss: 1.9464, Val Loss: 2.1775\n",
      "Epoch 6/50, Train Loss: 1.8416, Val Loss: 2.1226\n",
      "Epoch 7/50, Train Loss: 1.7538, Val Loss: 2.0922\n",
      "Epoch 8/50, Train Loss: 1.6305, Val Loss: 2.0317\n",
      "Epoch 9/50, Train Loss: 1.5137, Val Loss: 1.9826\n",
      "Epoch 10/50, Train Loss: 1.3954, Val Loss: 1.9258\n",
      "Epoch 11/50, Train Loss: 1.2514, Val Loss: 1.8586\n",
      "Epoch 12/50, Train Loss: 1.1182, Val Loss: 1.8321\n",
      "Epoch 13/50, Train Loss: 0.9918, Val Loss: 1.7918\n",
      "Epoch 14/50, Train Loss: 0.8854, Val Loss: 1.7744\n",
      "Epoch 15/50, Train Loss: 0.7740, Val Loss: 1.7251\n",
      "Epoch 16/50, Train Loss: 0.6690, Val Loss: 1.7239\n",
      "Epoch 17/50, Train Loss: 0.5943, Val Loss: 1.6748\n",
      "Epoch 18/50, Train Loss: 0.5222, Val Loss: 1.6671\n",
      "Epoch 19/50, Train Loss: 0.4405, Val Loss: 1.6379\n",
      "Epoch 20/50, Train Loss: 0.3816, Val Loss: 1.6573\n",
      "Epoch 21/50, Train Loss: 0.3323, Val Loss: 1.6268\n",
      "Epoch 22/50, Train Loss: 0.2841, Val Loss: 1.6034\n",
      "Epoch 23/50, Train Loss: 0.2493, Val Loss: 1.5854\n",
      "Epoch 24/50, Train Loss: 0.2180, Val Loss: 1.5984\n",
      "Epoch 25/50, Train Loss: 0.1874, Val Loss: 1.5886\n",
      "Epoch 26/50, Train Loss: 0.1621, Val Loss: 1.6510\n",
      "Epoch 27/50, Train Loss: 0.1455, Val Loss: 1.6092\n",
      "Epoch 28/50, Train Loss: 0.1256, Val Loss: 1.5842\n",
      "Epoch 29/50, Train Loss: 0.1120, Val Loss: 1.5968\n",
      "Epoch 30/50, Train Loss: 0.0976, Val Loss: 1.6006\n",
      "Epoch 31/50, Train Loss: 0.0857, Val Loss: 1.6000\n",
      "Epoch 32/50, Train Loss: 0.0779, Val Loss: 1.6111\n",
      "Epoch 33/50, Train Loss: 0.0733, Val Loss: 1.5879\n",
      "Early stopping triggered after 33 epochs\n",
      "Training complete\n"
     ]
    },
    {
     "name": "stderr",
     "output_type": "stream",
     "text": [
      "[I 2024-09-14 18:01:41,852] Trial 30 finished with value: 0.4383561611175537 and parameters: {'lr': 1.519967577422178e-05, 'batch_size': 64, 'weight_decay': 0.0001407298420650614}. Best is trial 22 with value: 0.9246575310826302.\n"
     ]
    },
    {
     "name": "stdout",
     "output_type": "stream",
     "text": [
      "Accuracy: 0.5616\n",
      "F1 Score: 0.4751\n",
      "Epoch 1/50, Train Loss: 2.5480, Val Loss: 2.5050\n",
      "Epoch 2/50, Train Loss: 2.3183, Val Loss: 2.6726\n",
      "Epoch 3/50, Train Loss: 2.2277, Val Loss: 2.4637\n",
      "Epoch 4/50, Train Loss: 2.1389, Val Loss: 2.9673\n",
      "Epoch 5/50, Train Loss: 2.0388, Val Loss: 2.4244\n",
      "Epoch 6/50, Train Loss: 1.8619, Val Loss: 2.5691\n",
      "Epoch 7/50, Train Loss: 1.7511, Val Loss: 2.1657\n",
      "Epoch 8/50, Train Loss: 1.6217, Val Loss: 2.2649\n",
      "Epoch 9/50, Train Loss: 1.5753, Val Loss: 1.9154\n",
      "Epoch 10/50, Train Loss: 1.4613, Val Loss: 1.6368\n",
      "Epoch 11/50, Train Loss: 1.1071, Val Loss: 2.0030\n",
      "Epoch 12/50, Train Loss: 0.9869, Val Loss: 1.3530\n",
      "Epoch 13/50, Train Loss: 0.7402, Val Loss: 2.0629\n",
      "Epoch 14/50, Train Loss: 0.6423, Val Loss: 1.8088\n",
      "Epoch 15/50, Train Loss: 0.4561, Val Loss: 1.7322\n",
      "Epoch 16/50, Train Loss: 0.4618, Val Loss: 2.1057\n",
      "Epoch 17/50, Train Loss: 0.2473, Val Loss: 1.2194\n",
      "Epoch 18/50, Train Loss: 0.2918, Val Loss: 1.9126\n",
      "Epoch 19/50, Train Loss: 0.1645, Val Loss: 0.7513\n",
      "Epoch 20/50, Train Loss: 0.1086, Val Loss: 1.0037\n",
      "Epoch 21/50, Train Loss: 0.0968, Val Loss: 0.8775\n",
      "Epoch 22/50, Train Loss: 0.0537, Val Loss: 1.1103\n",
      "Epoch 23/50, Train Loss: 0.1041, Val Loss: 0.9983\n",
      "Epoch 24/50, Train Loss: 0.0502, Val Loss: 0.6463\n",
      "Epoch 25/50, Train Loss: 0.0352, Val Loss: 1.0118\n",
      "Epoch 26/50, Train Loss: 0.0187, Val Loss: 0.7747\n",
      "Epoch 27/50, Train Loss: 0.0100, Val Loss: 0.7079\n",
      "Epoch 28/50, Train Loss: 0.0038, Val Loss: 0.6401\n",
      "Epoch 29/50, Train Loss: 0.0029, Val Loss: 0.6156\n",
      "Epoch 30/50, Train Loss: 0.0022, Val Loss: 0.6437\n",
      "Epoch 31/50, Train Loss: 0.0024, Val Loss: 0.6825\n",
      "Epoch 32/50, Train Loss: 0.0022, Val Loss: 0.6753\n",
      "Epoch 33/50, Train Loss: 0.0020, Val Loss: 0.6607\n"
     ]
    },
    {
     "name": "stderr",
     "output_type": "stream",
     "text": [
      "[I 2024-09-14 18:02:54,560] Trial 31 finished with value: 0.08219176530838013 and parameters: {'lr': 0.0024256733313230082, 'batch_size': 32, 'weight_decay': 0.0015502138864327269}. Best is trial 22 with value: 0.9246575310826302.\n"
     ]
    },
    {
     "name": "stdout",
     "output_type": "stream",
     "text": [
      "Epoch 34/50, Train Loss: 0.0015, Val Loss: 0.6821\n",
      "Early stopping triggered after 34 epochs\n",
      "Training complete\n",
      "Accuracy: 0.9178\n",
      "F1 Score: 0.8708\n",
      "Epoch 1/50, Train Loss: 2.4648, Val Loss: 3.2010\n",
      "Epoch 2/50, Train Loss: 2.1293, Val Loss: 2.0866\n",
      "Epoch 3/50, Train Loss: 1.6947, Val Loss: 3.0644\n",
      "Epoch 4/50, Train Loss: 1.4165, Val Loss: 1.5959\n",
      "Epoch 5/50, Train Loss: 1.0330, Val Loss: 1.9609\n",
      "Epoch 6/50, Train Loss: 0.8863, Val Loss: 1.1327\n",
      "Epoch 7/50, Train Loss: 0.5588, Val Loss: 3.9576\n",
      "Epoch 8/50, Train Loss: 0.4267, Val Loss: 0.7030\n",
      "Epoch 9/50, Train Loss: 0.2559, Val Loss: 0.8727\n",
      "Epoch 10/50, Train Loss: 0.2020, Val Loss: 1.9753\n",
      "Epoch 11/50, Train Loss: 0.1548, Val Loss: 0.5397\n",
      "Epoch 12/50, Train Loss: 0.0658, Val Loss: 0.5245\n",
      "Epoch 13/50, Train Loss: 0.0298, Val Loss: 0.2876\n",
      "Epoch 14/50, Train Loss: 0.0228, Val Loss: 0.5194\n",
      "Epoch 15/50, Train Loss: 0.0249, Val Loss: 0.3273\n",
      "Epoch 16/50, Train Loss: 0.0121, Val Loss: 0.2691\n",
      "Epoch 17/50, Train Loss: 0.0042, Val Loss: 0.2156\n",
      "Epoch 18/50, Train Loss: 0.0030, Val Loss: 0.2264\n",
      "Epoch 19/50, Train Loss: 0.0023, Val Loss: 0.2258\n",
      "Epoch 20/50, Train Loss: 0.0018, Val Loss: 0.2370\n",
      "Epoch 21/50, Train Loss: 0.0016, Val Loss: 0.2482\n",
      "Epoch 22/50, Train Loss: 0.0014, Val Loss: 0.2345\n",
      "Early stopping triggered after 22 epochs\n",
      "Training complete\n"
     ]
    },
    {
     "name": "stderr",
     "output_type": "stream",
     "text": [
      "[I 2024-09-14 18:03:42,367] Trial 32 finished with value: 0.0547945499420166 and parameters: {'lr': 0.0007261176914595449, 'batch_size': 32, 'weight_decay': 0.000782181588357814}. Best is trial 22 with value: 0.9246575310826302.\n"
     ]
    },
    {
     "name": "stdout",
     "output_type": "stream",
     "text": [
      "Accuracy: 0.9452\n",
      "F1 Score: 0.9024\n",
      "Epoch 1/50, Train Loss: 2.8434, Val Loss: 47.4698\n",
      "Epoch 2/50, Train Loss: 2.4645, Val Loss: 2.6087\n",
      "Epoch 3/50, Train Loss: 2.3181, Val Loss: 2.2665\n",
      "Epoch 4/50, Train Loss: 2.2891, Val Loss: 2.4804\n",
      "Epoch 5/50, Train Loss: 2.2291, Val Loss: 2.5583\n",
      "Epoch 6/50, Train Loss: 2.1588, Val Loss: 2.2802\n",
      "Epoch 7/50, Train Loss: 2.1709, Val Loss: 2.0688\n",
      "Epoch 8/50, Train Loss: 1.9452, Val Loss: 2.2951\n",
      "Epoch 9/50, Train Loss: 1.7416, Val Loss: 4.2200\n",
      "Epoch 10/50, Train Loss: 1.7268, Val Loss: 2.1225\n",
      "Epoch 11/50, Train Loss: 1.4546, Val Loss: 1.8553\n",
      "Epoch 12/50, Train Loss: 1.2385, Val Loss: 1.8843\n",
      "Epoch 13/50, Train Loss: 1.1636, Val Loss: 2.3594\n",
      "Epoch 14/50, Train Loss: 1.0969, Val Loss: 2.7289\n",
      "Epoch 15/50, Train Loss: 0.8474, Val Loss: 1.6572\n",
      "Epoch 16/50, Train Loss: 0.5530, Val Loss: 1.6904\n",
      "Epoch 17/50, Train Loss: 0.4838, Val Loss: 1.3950\n",
      "Epoch 18/50, Train Loss: 0.5404, Val Loss: 1.1975\n",
      "Epoch 19/50, Train Loss: 0.4468, Val Loss: 1.6081\n",
      "Epoch 20/50, Train Loss: 0.3114, Val Loss: 1.2412\n",
      "Epoch 21/50, Train Loss: 0.2326, Val Loss: 1.0913\n",
      "Epoch 22/50, Train Loss: 0.1894, Val Loss: 1.4618\n",
      "Epoch 23/50, Train Loss: 0.0966, Val Loss: 0.9834\n",
      "Epoch 24/50, Train Loss: 0.0605, Val Loss: 1.1355\n",
      "Epoch 25/50, Train Loss: 0.1390, Val Loss: 1.9692\n",
      "Epoch 26/50, Train Loss: 0.1895, Val Loss: 1.3113\n",
      "Epoch 27/50, Train Loss: 0.0648, Val Loss: 0.9352\n",
      "Epoch 28/50, Train Loss: 0.0478, Val Loss: 1.0947\n",
      "Epoch 29/50, Train Loss: 0.0231, Val Loss: 1.0089\n",
      "Epoch 30/50, Train Loss: 0.0137, Val Loss: 0.9805\n",
      "Epoch 31/50, Train Loss: 0.0076, Val Loss: 1.0053\n"
     ]
    },
    {
     "name": "stderr",
     "output_type": "stream",
     "text": [
      "[I 2024-09-14 18:04:52,144] Trial 33 finished with value: 0.19863015413284302 and parameters: {'lr': 0.004216363564071459, 'batch_size': 32, 'weight_decay': 0.005302145551030231}. Best is trial 22 with value: 0.9246575310826302.\n"
     ]
    },
    {
     "name": "stdout",
     "output_type": "stream",
     "text": [
      "Epoch 32/50, Train Loss: 0.0080, Val Loss: 0.9729\n",
      "Early stopping triggered after 32 epochs\n",
      "Training complete\n",
      "Accuracy: 0.8014\n",
      "F1 Score: 0.7467\n",
      "Epoch 1/50, Train Loss: 2.5769, Val Loss: 3.0650\n",
      "Epoch 2/50, Train Loss: 2.2310, Val Loss: 2.6686\n",
      "Epoch 3/50, Train Loss: 2.0620, Val Loss: 1.9762\n",
      "Epoch 4/50, Train Loss: 1.8269, Val Loss: 2.3443\n",
      "Epoch 5/50, Train Loss: 1.5107, Val Loss: 1.6521\n",
      "Epoch 6/50, Train Loss: 1.1691, Val Loss: 1.5757\n",
      "Epoch 7/50, Train Loss: 0.8709, Val Loss: 1.6418\n",
      "Epoch 8/50, Train Loss: 0.9136, Val Loss: 2.0561\n",
      "Epoch 9/50, Train Loss: 0.6857, Val Loss: 1.1510\n",
      "Epoch 10/50, Train Loss: 0.4489, Val Loss: 1.0573\n",
      "Epoch 11/50, Train Loss: 0.3051, Val Loss: 0.9590\n",
      "Epoch 12/50, Train Loss: 0.2328, Val Loss: 0.8564\n",
      "Epoch 13/50, Train Loss: 0.3585, Val Loss: 1.1761\n",
      "Epoch 14/50, Train Loss: 0.2225, Val Loss: 0.9610\n",
      "Epoch 15/50, Train Loss: 0.1665, Val Loss: 1.2243\n",
      "Epoch 16/50, Train Loss: 0.0996, Val Loss: 1.1314\n",
      "Epoch 17/50, Train Loss: 0.1105, Val Loss: 0.8075\n",
      "Epoch 18/50, Train Loss: 0.0861, Val Loss: 0.6681\n",
      "Epoch 19/50, Train Loss: 0.0943, Val Loss: 1.0095\n",
      "Epoch 20/50, Train Loss: 0.1343, Val Loss: 1.2598\n",
      "Epoch 21/50, Train Loss: 0.0901, Val Loss: 0.6101\n",
      "Epoch 22/50, Train Loss: 0.0495, Val Loss: 0.7689\n",
      "Epoch 23/50, Train Loss: 0.0349, Val Loss: 0.5743\n",
      "Epoch 24/50, Train Loss: 0.0157, Val Loss: 0.4462\n",
      "Epoch 25/50, Train Loss: 0.0114, Val Loss: 0.3916\n",
      "Epoch 26/50, Train Loss: 0.0061, Val Loss: 0.4084\n",
      "Epoch 27/50, Train Loss: 0.0160, Val Loss: 0.4281\n",
      "Epoch 28/50, Train Loss: 0.0066, Val Loss: 0.3914\n",
      "Epoch 29/50, Train Loss: 0.0072, Val Loss: 0.3109\n",
      "Epoch 30/50, Train Loss: 0.0035, Val Loss: 0.3478\n",
      "Epoch 31/50, Train Loss: 0.0027, Val Loss: 0.3776\n",
      "Epoch 32/50, Train Loss: 0.0024, Val Loss: 0.3672\n",
      "Epoch 33/50, Train Loss: 0.0017, Val Loss: 0.3701\n"
     ]
    },
    {
     "name": "stderr",
     "output_type": "stream",
     "text": [
      "[I 2024-09-14 18:06:05,482] Trial 34 finished with value: 0.0547945499420166 and parameters: {'lr': 0.0015190364602533936, 'batch_size': 32, 'weight_decay': 0.0008966164542516231}. Best is trial 22 with value: 0.9246575310826302.\n"
     ]
    },
    {
     "name": "stdout",
     "output_type": "stream",
     "text": [
      "Epoch 34/50, Train Loss: 0.0009, Val Loss: 0.3561\n",
      "Early stopping triggered after 34 epochs\n",
      "Training complete\n",
      "Accuracy: 0.9452\n",
      "F1 Score: 0.9390\n",
      "Epoch 1/50, Train Loss: 3.0920, Val Loss: 240.6305\n",
      "Epoch 2/50, Train Loss: 2.6173, Val Loss: 3.7263\n",
      "Epoch 3/50, Train Loss: 2.3925, Val Loss: 2.6193\n",
      "Epoch 4/50, Train Loss: 2.3346, Val Loss: 2.3622\n",
      "Epoch 5/50, Train Loss: 2.2324, Val Loss: 2.4790\n",
      "Epoch 6/50, Train Loss: 2.1775, Val Loss: 2.4403\n",
      "Epoch 7/50, Train Loss: 2.1411, Val Loss: 2.3627\n",
      "Epoch 8/50, Train Loss: 2.0883, Val Loss: 2.5476\n",
      "Epoch 9/50, Train Loss: 1.9723, Val Loss: 2.1811\n",
      "Epoch 10/50, Train Loss: 1.8438, Val Loss: 2.0815\n",
      "Epoch 11/50, Train Loss: 1.6893, Val Loss: 1.9005\n",
      "Epoch 12/50, Train Loss: 1.5015, Val Loss: 1.8291\n",
      "Epoch 13/50, Train Loss: 1.2626, Val Loss: 1.6298\n",
      "Epoch 14/50, Train Loss: 1.2175, Val Loss: 1.5553\n",
      "Epoch 15/50, Train Loss: 1.0309, Val Loss: 1.6885\n",
      "Epoch 16/50, Train Loss: 0.9295, Val Loss: 1.1302\n",
      "Epoch 17/50, Train Loss: 0.7488, Val Loss: 2.0279\n",
      "Epoch 18/50, Train Loss: 0.7807, Val Loss: 1.0900\n",
      "Epoch 19/50, Train Loss: 0.5033, Val Loss: 0.9224\n",
      "Epoch 20/50, Train Loss: 0.3676, Val Loss: 1.8449\n",
      "Epoch 21/50, Train Loss: 0.3335, Val Loss: 1.2564\n",
      "Epoch 22/50, Train Loss: 0.2989, Val Loss: 1.0575\n",
      "Epoch 23/50, Train Loss: 0.2147, Val Loss: 1.3538\n",
      "Epoch 24/50, Train Loss: 0.1194, Val Loss: 0.9063\n",
      "Epoch 25/50, Train Loss: 0.0626, Val Loss: 0.9445\n",
      "Epoch 26/50, Train Loss: 0.0612, Val Loss: 0.6971\n",
      "Epoch 27/50, Train Loss: 0.0503, Val Loss: 1.2153\n",
      "Epoch 28/50, Train Loss: 0.1548, Val Loss: 1.2472\n",
      "Epoch 29/50, Train Loss: 0.1188, Val Loss: 1.2008\n",
      "Epoch 30/50, Train Loss: 0.0749, Val Loss: 1.0968\n",
      "Epoch 31/50, Train Loss: 0.0390, Val Loss: 0.6795\n",
      "Epoch 32/50, Train Loss: 0.1454, Val Loss: 1.2495\n",
      "Epoch 33/50, Train Loss: 0.1370, Val Loss: 0.8247\n",
      "Epoch 34/50, Train Loss: 0.1195, Val Loss: 0.9008\n",
      "Epoch 35/50, Train Loss: 0.0452, Val Loss: 0.7209\n",
      "Epoch 36/50, Train Loss: 0.0145, Val Loss: 0.6184\n",
      "Epoch 37/50, Train Loss: 0.0127, Val Loss: 0.7958\n",
      "Epoch 38/50, Train Loss: 0.0023, Val Loss: 0.5094\n",
      "Epoch 39/50, Train Loss: 0.0021, Val Loss: 0.5064\n",
      "Epoch 40/50, Train Loss: 0.0012, Val Loss: 0.4344\n",
      "Epoch 41/50, Train Loss: 0.0011, Val Loss: 0.3723\n",
      "Epoch 42/50, Train Loss: 0.0012, Val Loss: 0.4614\n",
      "Epoch 43/50, Train Loss: 0.0006, Val Loss: 0.4910\n",
      "Epoch 44/50, Train Loss: 0.0012, Val Loss: 0.5078\n",
      "Epoch 45/50, Train Loss: 0.0016, Val Loss: 0.5246\n"
     ]
    },
    {
     "name": "stderr",
     "output_type": "stream",
     "text": [
      "[I 2024-09-14 18:07:43,007] Trial 35 finished with value: 0.07534247636795044 and parameters: {'lr': 0.008687609514190252, 'batch_size': 32, 'weight_decay': 7.638042903178693e-05}. Best is trial 22 with value: 0.9246575310826302.\n"
     ]
    },
    {
     "name": "stdout",
     "output_type": "stream",
     "text": [
      "Epoch 46/50, Train Loss: 0.0020, Val Loss: 0.4678\n",
      "Early stopping triggered after 46 epochs\n",
      "Training complete\n",
      "Accuracy: 0.9247\n",
      "F1 Score: 0.8567\n",
      "Epoch 1/50, Train Loss: 2.5822, Val Loss: 31.5364\n",
      "Epoch 2/50, Train Loss: 2.3313, Val Loss: 2.6096\n",
      "Epoch 3/50, Train Loss: 2.2288, Val Loss: 2.1579\n",
      "Epoch 4/50, Train Loss: 2.1591, Val Loss: 2.1089\n",
      "Epoch 5/50, Train Loss: 2.1608, Val Loss: 2.4693\n",
      "Epoch 6/50, Train Loss: 2.0818, Val Loss: 2.6725\n",
      "Epoch 7/50, Train Loss: 2.0259, Val Loss: 2.0327\n",
      "Epoch 8/50, Train Loss: 1.7894, Val Loss: 3.0436\n",
      "Epoch 9/50, Train Loss: 1.5534, Val Loss: 2.3687\n",
      "Epoch 10/50, Train Loss: 1.5763, Val Loss: 1.7883\n",
      "Epoch 11/50, Train Loss: 1.2122, Val Loss: 1.2157\n",
      "Epoch 12/50, Train Loss: 1.2003, Val Loss: 1.3409\n",
      "Epoch 13/50, Train Loss: 1.0313, Val Loss: 1.6377\n",
      "Epoch 14/50, Train Loss: 0.8605, Val Loss: 1.2752\n",
      "Epoch 15/50, Train Loss: 0.7678, Val Loss: 1.6128\n"
     ]
    },
    {
     "name": "stderr",
     "output_type": "stream",
     "text": [
      "[I 2024-09-14 18:08:19,290] Trial 36 finished with value: 0.6095890402793884 and parameters: {'lr': 0.002271761670468926, 'batch_size': 64, 'weight_decay': 0.002858367266289656}. Best is trial 22 with value: 0.9246575310826302.\n"
     ]
    },
    {
     "name": "stdout",
     "output_type": "stream",
     "text": [
      "Epoch 16/50, Train Loss: 0.6933, Val Loss: 1.4675\n",
      "Early stopping triggered after 16 epochs\n",
      "Training complete\n",
      "Accuracy: 0.3904\n",
      "F1 Score: 0.3796\n",
      "Epoch 1/50, Train Loss: 3.4976, Val Loss: 2.5186\n",
      "Epoch 2/50, Train Loss: 2.2955, Val Loss: 2.3191\n",
      "Epoch 3/50, Train Loss: 2.2874, Val Loss: 2.2481\n",
      "Epoch 4/50, Train Loss: 2.2970, Val Loss: 2.1842\n",
      "Epoch 5/50, Train Loss: 2.2806, Val Loss: 2.4202\n",
      "Epoch 6/50, Train Loss: 2.2577, Val Loss: 2.3118\n",
      "Epoch 7/50, Train Loss: 2.2468, Val Loss: 3.3807\n",
      "Epoch 8/50, Train Loss: 2.2311, Val Loss: 2.2135\n"
     ]
    },
    {
     "name": "stderr",
     "output_type": "stream",
     "text": [
      "[I 2024-09-14 18:08:42,813] Trial 37 finished with value: 0.8424657583236694 and parameters: {'lr': 0.05747831985644458, 'batch_size': 16, 'weight_decay': 3.8979966498298795e-06}. Best is trial 22 with value: 0.9246575310826302.\n"
     ]
    },
    {
     "name": "stdout",
     "output_type": "stream",
     "text": [
      "Epoch 9/50, Train Loss: 2.2104, Val Loss: 2.2511\n",
      "Early stopping triggered after 9 epochs\n",
      "Training complete\n",
      "Accuracy: 0.1575\n",
      "F1 Score: 0.0871\n",
      "Epoch 1/50, Train Loss: 3.4426, Val Loss: 68.3010\n",
      "Epoch 2/50, Train Loss: 2.4386, Val Loss: 2.3245\n",
      "Epoch 3/50, Train Loss: 2.3358, Val Loss: 2.2600\n",
      "Epoch 4/50, Train Loss: 2.3103, Val Loss: 2.2696\n",
      "Epoch 5/50, Train Loss: 2.2688, Val Loss: 2.1796\n",
      "Epoch 6/50, Train Loss: 2.2442, Val Loss: 2.2009\n",
      "Epoch 7/50, Train Loss: 2.1894, Val Loss: 2.2512\n",
      "Epoch 8/50, Train Loss: 2.1390, Val Loss: 2.0541\n",
      "Epoch 9/50, Train Loss: 1.9559, Val Loss: 2.1951\n",
      "Epoch 10/50, Train Loss: 1.9126, Val Loss: 2.0247\n",
      "Epoch 11/50, Train Loss: 1.7061, Val Loss: 1.7391\n",
      "Epoch 12/50, Train Loss: 1.5665, Val Loss: 1.8719\n",
      "Epoch 13/50, Train Loss: 1.4547, Val Loss: 1.8123\n",
      "Epoch 14/50, Train Loss: 1.3056, Val Loss: 1.7593\n",
      "Epoch 15/50, Train Loss: 1.2410, Val Loss: 1.4738\n",
      "Epoch 16/50, Train Loss: 1.0413, Val Loss: 1.8555\n",
      "Epoch 17/50, Train Loss: 1.1219, Val Loss: 1.4972\n",
      "Epoch 18/50, Train Loss: 0.8886, Val Loss: 1.3814\n",
      "Epoch 19/50, Train Loss: 0.8465, Val Loss: 1.6370\n",
      "Epoch 20/50, Train Loss: 0.7319, Val Loss: 1.7460\n",
      "Epoch 21/50, Train Loss: 0.6069, Val Loss: 1.1891\n",
      "Epoch 22/50, Train Loss: 0.4381, Val Loss: 1.2286\n",
      "Epoch 23/50, Train Loss: 0.3643, Val Loss: 1.4324\n",
      "Epoch 24/50, Train Loss: 0.2232, Val Loss: 1.3688\n",
      "Epoch 25/50, Train Loss: 0.2001, Val Loss: 1.2598\n"
     ]
    },
    {
     "name": "stderr",
     "output_type": "stream",
     "text": [
      "[I 2024-09-14 18:09:39,172] Trial 38 finished with value: 0.36301368474960327 and parameters: {'lr': 0.016804089261093703, 'batch_size': 32, 'weight_decay': 1.6196005858831085e-05}. Best is trial 22 with value: 0.9246575310826302.\n"
     ]
    },
    {
     "name": "stdout",
     "output_type": "stream",
     "text": [
      "Epoch 26/50, Train Loss: 0.3008, Val Loss: 1.8153\n",
      "Early stopping triggered after 26 epochs\n",
      "Training complete\n",
      "Accuracy: 0.6370\n",
      "F1 Score: 0.5876\n",
      "Epoch 1/50, Train Loss: 3.8540, Val Loss: 193.6813\n",
      "Epoch 2/50, Train Loss: 2.4047, Val Loss: 2.5770\n",
      "Epoch 3/50, Train Loss: 2.3770, Val Loss: 4.0566\n",
      "Epoch 4/50, Train Loss: 2.2943, Val Loss: 2.3382\n",
      "Epoch 5/50, Train Loss: 2.3213, Val Loss: 2.3871\n",
      "Epoch 6/50, Train Loss: 2.2922, Val Loss: 2.2553\n",
      "Epoch 7/50, Train Loss: 2.2198, Val Loss: 2.3759\n",
      "Epoch 8/50, Train Loss: 2.2143, Val Loss: 2.5433\n",
      "Epoch 9/50, Train Loss: 2.2198, Val Loss: 2.4481\n",
      "Epoch 10/50, Train Loss: 2.1466, Val Loss: 2.3832\n",
      "Epoch 11/50, Train Loss: 2.0901, Val Loss: 2.6145\n",
      "Early stopping triggered after 11 epochs\n",
      "Training complete\n"
     ]
    },
    {
     "name": "stderr",
     "output_type": "stream",
     "text": [
      "[I 2024-09-14 18:10:04,092] Trial 39 finished with value: 0.938356164842844 and parameters: {'lr': 0.012653947233242485, 'batch_size': 64, 'weight_decay': 0.0005945715958985451}. Best is trial 39 with value: 0.938356164842844.\n"
     ]
    },
    {
     "name": "stdout",
     "output_type": "stream",
     "text": [
      "Accuracy: 0.0616\n",
      "F1 Score: 0.0626\n",
      "Epoch 1/50, Train Loss: 3.2650, Val Loss: 11.6247\n",
      "Epoch 2/50, Train Loss: 2.6496, Val Loss: 6.0696\n",
      "Epoch 3/50, Train Loss: 2.4113, Val Loss: 2.4293\n",
      "Epoch 4/50, Train Loss: 2.2936, Val Loss: 3.0786\n",
      "Epoch 5/50, Train Loss: 2.2881, Val Loss: 2.4587\n",
      "Epoch 6/50, Train Loss: 2.2813, Val Loss: 2.2607\n",
      "Epoch 7/50, Train Loss: 2.2507, Val Loss: 2.3366\n",
      "Epoch 8/50, Train Loss: 2.2590, Val Loss: 2.2951\n",
      "Epoch 9/50, Train Loss: 2.2645, Val Loss: 2.2423\n",
      "Epoch 10/50, Train Loss: 2.2493, Val Loss: 2.2499\n",
      "Epoch 11/50, Train Loss: 2.2349, Val Loss: 2.2404\n",
      "Epoch 12/50, Train Loss: 2.2048, Val Loss: 2.2608\n",
      "Epoch 13/50, Train Loss: 2.1824, Val Loss: 2.2640\n",
      "Epoch 14/50, Train Loss: 2.1452, Val Loss: 2.1611\n",
      "Epoch 15/50, Train Loss: 2.1123, Val Loss: 2.2196\n",
      "Epoch 16/50, Train Loss: 2.0739, Val Loss: 2.2252\n",
      "Epoch 17/50, Train Loss: 1.9518, Val Loss: 2.0438\n",
      "Epoch 18/50, Train Loss: 1.8586, Val Loss: 2.2515\n",
      "Epoch 19/50, Train Loss: 1.8261, Val Loss: 2.1564\n",
      "Epoch 20/50, Train Loss: 1.7818, Val Loss: 2.4343\n",
      "Epoch 21/50, Train Loss: 1.6312, Val Loss: 2.1104\n",
      "Epoch 22/50, Train Loss: 1.4793, Val Loss: 2.0309\n",
      "Epoch 23/50, Train Loss: 1.5011, Val Loss: 1.9493\n",
      "Epoch 24/50, Train Loss: 1.3868, Val Loss: 1.8394\n",
      "Epoch 25/50, Train Loss: 1.2655, Val Loss: 1.8504\n",
      "Epoch 26/50, Train Loss: 1.1937, Val Loss: 1.9989\n",
      "Epoch 27/50, Train Loss: 1.0340, Val Loss: 1.6192\n",
      "Epoch 28/50, Train Loss: 0.8976, Val Loss: 1.6049\n",
      "Epoch 29/50, Train Loss: 0.7988, Val Loss: 1.9001\n",
      "Epoch 30/50, Train Loss: 0.7329, Val Loss: 2.6914\n",
      "Epoch 31/50, Train Loss: 0.5726, Val Loss: 1.4464\n",
      "Epoch 32/50, Train Loss: 0.4782, Val Loss: 1.1208\n",
      "Epoch 33/50, Train Loss: 0.3723, Val Loss: 1.1787\n",
      "Epoch 34/50, Train Loss: 0.2971, Val Loss: 1.0914\n",
      "Epoch 35/50, Train Loss: 0.2263, Val Loss: 1.4303\n",
      "Epoch 36/50, Train Loss: 0.3044, Val Loss: 1.0023\n",
      "Epoch 37/50, Train Loss: 0.2124, Val Loss: 1.3871\n",
      "Epoch 38/50, Train Loss: 0.1732, Val Loss: 1.6789\n",
      "Epoch 39/50, Train Loss: 0.0967, Val Loss: 1.7440\n",
      "Epoch 40/50, Train Loss: 0.0552, Val Loss: 0.8894\n",
      "Epoch 41/50, Train Loss: 0.0217, Val Loss: 0.9331\n",
      "Epoch 42/50, Train Loss: 0.0322, Val Loss: 1.0160\n",
      "Epoch 43/50, Train Loss: 0.0365, Val Loss: 1.1085\n",
      "Epoch 44/50, Train Loss: 0.0289, Val Loss: 1.0077\n",
      "Epoch 45/50, Train Loss: 0.0131, Val Loss: 0.7570\n",
      "Epoch 46/50, Train Loss: 0.0076, Val Loss: 0.8885\n",
      "Epoch 47/50, Train Loss: 0.0106, Val Loss: 0.9483\n",
      "Epoch 48/50, Train Loss: 0.0113, Val Loss: 1.2041\n",
      "Epoch 49/50, Train Loss: 0.0046, Val Loss: 0.6859\n",
      "Epoch 50/50, Train Loss: 0.0029, Val Loss: 0.7504\n",
      "Training complete\n"
     ]
    },
    {
     "name": "stderr",
     "output_type": "stream",
     "text": [
      "[I 2024-09-14 18:11:54,144] Trial 40 finished with value: 0.1780821681022644 and parameters: {'lr': 0.010475495037581866, 'batch_size': 64, 'weight_decay': 1.0047064918020735e-06}. Best is trial 39 with value: 0.938356164842844.\n"
     ]
    },
    {
     "name": "stdout",
     "output_type": "stream",
     "text": [
      "Accuracy: 0.8219\n",
      "F1 Score: 0.7969\n",
      "Epoch 1/50, Train Loss: 4.3048, Val Loss: 281.4328\n",
      "Epoch 2/50, Train Loss: 2.3737, Val Loss: 2.4366\n",
      "Epoch 3/50, Train Loss: 2.3057, Val Loss: 2.3000\n",
      "Epoch 4/50, Train Loss: 2.2921, Val Loss: 2.2901\n",
      "Epoch 5/50, Train Loss: 2.2738, Val Loss: 2.2669\n",
      "Epoch 6/50, Train Loss: 2.2574, Val Loss: 2.2873\n",
      "Epoch 7/50, Train Loss: 2.2393, Val Loss: 2.3108\n",
      "Epoch 8/50, Train Loss: 2.2401, Val Loss: 2.3096\n",
      "Epoch 9/50, Train Loss: 2.2201, Val Loss: 2.3098\n",
      "Epoch 10/50, Train Loss: 2.2295, Val Loss: 2.3024\n",
      "Early stopping triggered after 10 epochs\n",
      "Training complete\n"
     ]
    },
    {
     "name": "stderr",
     "output_type": "stream",
     "text": [
      "[I 2024-09-14 18:12:17,435] Trial 41 finished with value: 0.8287671208381653 and parameters: {'lr': 0.02919364300037121, 'batch_size': 64, 'weight_decay': 0.0006975710992354475}. Best is trial 39 with value: 0.938356164842844.\n"
     ]
    },
    {
     "name": "stdout",
     "output_type": "stream",
     "text": [
      "Accuracy: 0.1712\n",
      "F1 Score: 0.0826\n",
      "Epoch 1/50, Train Loss: 2.8056, Val Loss: 43.2960\n",
      "Epoch 2/50, Train Loss: 2.5231, Val Loss: 9.9108\n",
      "Epoch 3/50, Train Loss: 2.4344, Val Loss: 2.6958\n",
      "Epoch 4/50, Train Loss: 2.2596, Val Loss: 3.6174\n",
      "Epoch 5/50, Train Loss: 2.2367, Val Loss: 2.3238\n",
      "Epoch 6/50, Train Loss: 2.2483, Val Loss: 2.2249\n",
      "Epoch 7/50, Train Loss: 2.1483, Val Loss: 2.2585\n",
      "Epoch 8/50, Train Loss: 2.1268, Val Loss: 2.6064\n",
      "Epoch 9/50, Train Loss: 2.0750, Val Loss: 2.2148\n",
      "Epoch 10/50, Train Loss: 2.0146, Val Loss: 2.4820\n",
      "Epoch 11/50, Train Loss: 1.8919, Val Loss: 2.7344\n",
      "Epoch 12/50, Train Loss: 1.8513, Val Loss: 1.7951\n",
      "Epoch 13/50, Train Loss: 1.6550, Val Loss: 1.8254\n",
      "Epoch 14/50, Train Loss: 1.5673, Val Loss: 2.1491\n",
      "Epoch 15/50, Train Loss: 1.5744, Val Loss: 1.7093\n",
      "Epoch 16/50, Train Loss: 1.4081, Val Loss: 1.6348\n",
      "Epoch 17/50, Train Loss: 1.2835, Val Loss: 2.0747\n",
      "Epoch 18/50, Train Loss: 1.3212, Val Loss: 2.0718\n",
      "Epoch 19/50, Train Loss: 1.0267, Val Loss: 1.7683\n",
      "Epoch 20/50, Train Loss: 1.0153, Val Loss: 2.0121\n"
     ]
    },
    {
     "name": "stderr",
     "output_type": "stream",
     "text": [
      "[I 2024-09-14 18:13:04,269] Trial 42 finished with value: 0.6095890402793884 and parameters: {'lr': 0.005202413646547227, 'batch_size': 64, 'weight_decay': 0.0011852035136202762}. Best is trial 39 with value: 0.938356164842844.\n"
     ]
    },
    {
     "name": "stdout",
     "output_type": "stream",
     "text": [
      "Epoch 21/50, Train Loss: 0.8105, Val Loss: 2.0985\n",
      "Early stopping triggered after 21 epochs\n",
      "Training complete\n",
      "Accuracy: 0.3904\n",
      "F1 Score: 0.3632\n",
      "Epoch 1/50, Train Loss: 3.3110, Val Loss: 30944.3104\n",
      "Epoch 2/50, Train Loss: 2.7569, Val Loss: 132.7139\n",
      "Epoch 3/50, Train Loss: 2.3905, Val Loss: 81.0434\n",
      "Epoch 4/50, Train Loss: 2.3211, Val Loss: 3.0766\n",
      "Epoch 5/50, Train Loss: 2.2930, Val Loss: 2.3820\n",
      "Epoch 6/50, Train Loss: 2.2638, Val Loss: 2.4566\n",
      "Epoch 7/50, Train Loss: 2.2354, Val Loss: 2.2589\n",
      "Epoch 8/50, Train Loss: 2.2043, Val Loss: 2.4447\n",
      "Epoch 9/50, Train Loss: 2.2047, Val Loss: 2.2440\n",
      "Epoch 10/50, Train Loss: 2.1438, Val Loss: 2.2107\n",
      "Epoch 11/50, Train Loss: 2.1375, Val Loss: 2.1918\n",
      "Epoch 12/50, Train Loss: 2.0608, Val Loss: 2.1997\n",
      "Epoch 13/50, Train Loss: 1.9467, Val Loss: 2.2341\n",
      "Epoch 14/50, Train Loss: 1.8681, Val Loss: 1.8774\n",
      "Epoch 15/50, Train Loss: 1.7677, Val Loss: 2.4958\n",
      "Epoch 16/50, Train Loss: 1.7146, Val Loss: 2.0886\n",
      "Epoch 17/50, Train Loss: 1.6289, Val Loss: 1.7140\n",
      "Epoch 18/50, Train Loss: 1.5316, Val Loss: 2.1975\n",
      "Epoch 19/50, Train Loss: 1.4198, Val Loss: 1.7132\n",
      "Epoch 20/50, Train Loss: 1.2495, Val Loss: 1.6903\n",
      "Epoch 21/50, Train Loss: 1.1690, Val Loss: 2.1611\n",
      "Epoch 22/50, Train Loss: 1.1715, Val Loss: 1.6114\n",
      "Epoch 23/50, Train Loss: 0.9317, Val Loss: 1.4230\n",
      "Epoch 24/50, Train Loss: 0.8689, Val Loss: 1.6063\n",
      "Epoch 25/50, Train Loss: 0.6374, Val Loss: 1.1527\n",
      "Epoch 26/50, Train Loss: 0.4678, Val Loss: 1.1682\n",
      "Epoch 27/50, Train Loss: 0.3200, Val Loss: 1.4400\n",
      "Epoch 28/50, Train Loss: 0.2227, Val Loss: 1.0946\n",
      "Epoch 29/50, Train Loss: 0.1877, Val Loss: 1.1814\n",
      "Epoch 30/50, Train Loss: 0.2366, Val Loss: 1.7023\n",
      "Epoch 31/50, Train Loss: 0.2240, Val Loss: 1.3742\n",
      "Epoch 32/50, Train Loss: 0.2549, Val Loss: 1.2072\n",
      "Epoch 33/50, Train Loss: 0.1714, Val Loss: 1.1898\n",
      "Early stopping triggered after 33 epochs\n",
      "Training complete\n"
     ]
    },
    {
     "name": "stderr",
     "output_type": "stream",
     "text": [
      "[I 2024-09-14 18:14:17,062] Trial 43 finished with value: 0.2945205569267273 and parameters: {'lr': 0.01355766323365717, 'batch_size': 64, 'weight_decay': 0.0003048844513328448}. Best is trial 39 with value: 0.938356164842844.\n"
     ]
    },
    {
     "name": "stdout",
     "output_type": "stream",
     "text": [
      "Accuracy: 0.7055\n",
      "F1 Score: 0.6510\n",
      "Epoch 1/50, Train Loss: 6.1975, Val Loss: 2573.0427\n",
      "Epoch 2/50, Train Loss: 2.5339, Val Loss: 2.7788\n",
      "Epoch 3/50, Train Loss: 2.3083, Val Loss: 2.3411\n",
      "Epoch 4/50, Train Loss: 2.3013, Val Loss: 2.2776\n",
      "Epoch 5/50, Train Loss: 2.2874, Val Loss: 2.2876\n",
      "Epoch 6/50, Train Loss: 2.2671, Val Loss: 2.2668\n",
      "Epoch 7/50, Train Loss: 2.2570, Val Loss: 2.2938\n",
      "Epoch 8/50, Train Loss: 2.2206, Val Loss: 2.2043\n",
      "Epoch 9/50, Train Loss: 2.2146, Val Loss: 2.1933\n",
      "Epoch 10/50, Train Loss: 2.1283, Val Loss: 2.0923\n",
      "Epoch 11/50, Train Loss: 2.1350, Val Loss: 2.3192\n",
      "Epoch 12/50, Train Loss: 2.1246, Val Loss: 2.2404\n",
      "Epoch 13/50, Train Loss: 2.0405, Val Loss: 2.1538\n",
      "Epoch 14/50, Train Loss: 2.0329, Val Loss: 2.1462\n",
      "Epoch 15/50, Train Loss: 1.9892, Val Loss: 2.1159\n",
      "Early stopping triggered after 15 epochs\n",
      "Training complete\n"
     ]
    },
    {
     "name": "stderr",
     "output_type": "stream",
     "text": [
      "[I 2024-09-14 18:14:50,780] Trial 44 finished with value: 0.8698630183935165 and parameters: {'lr': 0.046425057407947896, 'batch_size': 64, 'weight_decay': 0.0031063650458917603}. Best is trial 39 with value: 0.938356164842844.\n"
     ]
    },
    {
     "name": "stdout",
     "output_type": "stream",
     "text": [
      "Accuracy: 0.1301\n",
      "F1 Score: 0.0816\n",
      "Epoch 1/50, Train Loss: 2.5367, Val Loss: 24.4803\n",
      "Epoch 2/50, Train Loss: 2.3255, Val Loss: 3.7061\n",
      "Epoch 3/50, Train Loss: 2.2777, Val Loss: 2.3964\n",
      "Epoch 4/50, Train Loss: 2.1294, Val Loss: 2.3286\n",
      "Epoch 5/50, Train Loss: 2.0566, Val Loss: 2.1965\n",
      "Epoch 6/50, Train Loss: 1.8870, Val Loss: 3.1791\n",
      "Epoch 7/50, Train Loss: 1.7306, Val Loss: 2.1687\n",
      "Epoch 8/50, Train Loss: 1.4944, Val Loss: 1.8819\n",
      "Epoch 9/50, Train Loss: 1.3381, Val Loss: 3.0394\n",
      "Epoch 10/50, Train Loss: 1.1986, Val Loss: 2.0350\n",
      "Epoch 11/50, Train Loss: 0.9066, Val Loss: 2.1012\n",
      "Epoch 12/50, Train Loss: 0.8433, Val Loss: 1.4398\n",
      "Epoch 13/50, Train Loss: 0.6091, Val Loss: 1.3722\n",
      "Epoch 14/50, Train Loss: 0.5239, Val Loss: 2.1578\n",
      "Epoch 15/50, Train Loss: 0.3773, Val Loss: 1.2671\n",
      "Epoch 16/50, Train Loss: 0.2474, Val Loss: 1.1280\n",
      "Epoch 17/50, Train Loss: 0.2729, Val Loss: 1.0087\n",
      "Epoch 18/50, Train Loss: 0.2067, Val Loss: 0.9647\n",
      "Epoch 19/50, Train Loss: 0.1405, Val Loss: 0.9241\n",
      "Epoch 20/50, Train Loss: 0.1176, Val Loss: 0.9724\n",
      "Epoch 21/50, Train Loss: 0.1116, Val Loss: 0.5297\n",
      "Epoch 22/50, Train Loss: 0.1239, Val Loss: 1.0945\n",
      "Epoch 23/50, Train Loss: 0.0673, Val Loss: 0.6689\n",
      "Epoch 24/50, Train Loss: 0.0403, Val Loss: 0.8127\n",
      "Epoch 25/50, Train Loss: 0.0231, Val Loss: 0.7680\n"
     ]
    },
    {
     "name": "stderr",
     "output_type": "stream",
     "text": [
      "[I 2024-09-14 18:15:46,533] Trial 45 finished with value: 0.16438359022140503 and parameters: {'lr': 0.003165416043415845, 'batch_size': 32, 'weight_decay': 0.0005067603117088664}. Best is trial 39 with value: 0.938356164842844.\n"
     ]
    },
    {
     "name": "stdout",
     "output_type": "stream",
     "text": [
      "Epoch 26/50, Train Loss: 0.0132, Val Loss: 0.6126\n",
      "Early stopping triggered after 26 epochs\n",
      "Training complete\n",
      "Accuracy: 0.8356\n",
      "F1 Score: 0.8218\n",
      "Epoch 1/50, Train Loss: 2.2531, Val Loss: 2.4533\n",
      "Epoch 2/50, Train Loss: 1.7330, Val Loss: 2.5094\n",
      "Epoch 3/50, Train Loss: 1.1243, Val Loss: 2.1185\n",
      "Epoch 4/50, Train Loss: 0.6141, Val Loss: 1.9404\n",
      "Epoch 5/50, Train Loss: 0.2591, Val Loss: 1.7593\n",
      "Epoch 6/50, Train Loss: 0.1247, Val Loss: 1.6087\n",
      "Epoch 7/50, Train Loss: 0.0616, Val Loss: 1.8314\n",
      "Epoch 8/50, Train Loss: 0.0294, Val Loss: 1.5252\n",
      "Epoch 9/50, Train Loss: 0.0156, Val Loss: 1.5182\n",
      "Epoch 10/50, Train Loss: 0.0103, Val Loss: 1.4497\n",
      "Epoch 11/50, Train Loss: 0.0139, Val Loss: 1.5672\n",
      "Epoch 12/50, Train Loss: 0.0222, Val Loss: 1.8572\n",
      "Epoch 13/50, Train Loss: 0.0105, Val Loss: 1.6088\n",
      "Epoch 14/50, Train Loss: 0.0067, Val Loss: 1.5962\n",
      "Epoch 15/50, Train Loss: 0.0050, Val Loss: 1.4361\n",
      "Epoch 16/50, Train Loss: 0.0051, Val Loss: 1.3633\n",
      "Epoch 17/50, Train Loss: 0.0042, Val Loss: 1.2880\n",
      "Epoch 18/50, Train Loss: 0.0041, Val Loss: 1.3245\n",
      "Epoch 19/50, Train Loss: 0.0049, Val Loss: 1.2733\n",
      "Epoch 20/50, Train Loss: 0.0107, Val Loss: 1.7920\n",
      "Epoch 21/50, Train Loss: 0.0085, Val Loss: 1.5289\n",
      "Epoch 22/50, Train Loss: 0.0100, Val Loss: 1.3841\n",
      "Epoch 23/50, Train Loss: 0.0064, Val Loss: 1.3408\n",
      "Epoch 24/50, Train Loss: 0.0033, Val Loss: 1.3206\n",
      "Early stopping triggered after 24 epochs\n",
      "Training complete\n"
     ]
    },
    {
     "name": "stderr",
     "output_type": "stream",
     "text": [
      "[I 2024-09-14 18:16:39,951] Trial 46 finished with value: 0.28767120838165283 and parameters: {'lr': 0.00014504501680656052, 'batch_size': 64, 'weight_decay': 0.00013238696045971669}. Best is trial 39 with value: 0.938356164842844.\n"
     ]
    },
    {
     "name": "stdout",
     "output_type": "stream",
     "text": [
      "Accuracy: 0.7123\n",
      "F1 Score: 0.5663\n",
      "Epoch 1/50, Train Loss: 2.4428, Val Loss: 4.1001\n",
      "Epoch 2/50, Train Loss: 2.2637, Val Loss: 2.5828\n",
      "Epoch 3/50, Train Loss: 2.1834, Val Loss: 2.2813\n",
      "Epoch 4/50, Train Loss: 2.0869, Val Loss: 3.5800\n",
      "Epoch 5/50, Train Loss: 1.8806, Val Loss: 2.0104\n",
      "Epoch 6/50, Train Loss: 1.6859, Val Loss: 3.1132\n",
      "Epoch 7/50, Train Loss: 1.6410, Val Loss: 1.5621\n",
      "Epoch 8/50, Train Loss: 1.4093, Val Loss: 1.5755\n",
      "Epoch 9/50, Train Loss: 1.2732, Val Loss: 1.5251\n",
      "Epoch 10/50, Train Loss: 0.9713, Val Loss: 1.2646\n",
      "Epoch 11/50, Train Loss: 0.7309, Val Loss: 1.7311\n",
      "Epoch 12/50, Train Loss: 0.5883, Val Loss: 0.9607\n",
      "Epoch 13/50, Train Loss: 0.4102, Val Loss: 0.8773\n",
      "Epoch 14/50, Train Loss: 0.2509, Val Loss: 0.7412\n",
      "Epoch 15/50, Train Loss: 0.1905, Val Loss: 0.9027\n",
      "Epoch 16/50, Train Loss: 0.2049, Val Loss: 0.6474\n",
      "Epoch 17/50, Train Loss: 0.0964, Val Loss: 0.5665\n",
      "Epoch 18/50, Train Loss: 0.0865, Val Loss: 0.8670\n",
      "Epoch 19/50, Train Loss: 0.0682, Val Loss: 0.2849\n",
      "Epoch 20/50, Train Loss: 0.0469, Val Loss: 0.7122\n",
      "Epoch 21/50, Train Loss: 0.1109, Val Loss: 0.5003\n",
      "Epoch 22/50, Train Loss: 0.0589, Val Loss: 0.5448\n",
      "Epoch 23/50, Train Loss: 0.0364, Val Loss: 0.4214\n"
     ]
    },
    {
     "name": "stderr",
     "output_type": "stream",
     "text": [
      "[I 2024-09-14 18:17:40,023] Trial 47 finished with value: 0.09589040279388428 and parameters: {'lr': 0.0009495723920064672, 'batch_size': 16, 'weight_decay': 0.0017843875765662907}. Best is trial 39 with value: 0.938356164842844.\n"
     ]
    },
    {
     "name": "stdout",
     "output_type": "stream",
     "text": [
      "Epoch 24/50, Train Loss: 0.0250, Val Loss: 0.3299\n",
      "Early stopping triggered after 24 epochs\n",
      "Training complete\n",
      "Accuracy: 0.9041\n",
      "F1 Score: 0.8823\n",
      "Epoch 1/50, Train Loss: 4.6326, Val Loss: 2.3055\n",
      "Epoch 2/50, Train Loss: 2.2974, Val Loss: 2.2925\n",
      "Epoch 3/50, Train Loss: 2.2890, Val Loss: 2.3201\n",
      "Epoch 4/50, Train Loss: 2.3034, Val Loss: 2.3003\n",
      "Epoch 5/50, Train Loss: 2.2795, Val Loss: 2.2856\n",
      "Epoch 6/50, Train Loss: 2.2928, Val Loss: 2.3148\n",
      "Epoch 7/50, Train Loss: 2.2580, Val Loss: 4.2917\n",
      "Epoch 8/50, Train Loss: 2.2698, Val Loss: 2.2706\n",
      "Epoch 9/50, Train Loss: 2.2236, Val Loss: 2.3984\n",
      "Epoch 10/50, Train Loss: 2.1736, Val Loss: 2.2666\n",
      "Epoch 11/50, Train Loss: 2.1162, Val Loss: 2.2737\n",
      "Epoch 12/50, Train Loss: 1.9696, Val Loss: 2.5280\n",
      "Epoch 13/50, Train Loss: 1.9180, Val Loss: 2.2840\n",
      "Epoch 14/50, Train Loss: 1.8639, Val Loss: 3.1497\n",
      "Epoch 15/50, Train Loss: 1.8458, Val Loss: 2.0421\n",
      "Epoch 16/50, Train Loss: 1.7904, Val Loss: 2.0604\n",
      "Epoch 17/50, Train Loss: 1.7139, Val Loss: 1.8939\n",
      "Epoch 18/50, Train Loss: 1.6186, Val Loss: 2.0206\n",
      "Epoch 19/50, Train Loss: 1.5826, Val Loss: 1.5298\n",
      "Epoch 20/50, Train Loss: 1.5323, Val Loss: 2.3601\n",
      "Epoch 21/50, Train Loss: 1.4521, Val Loss: 1.5084\n",
      "Epoch 22/50, Train Loss: 1.2445, Val Loss: 1.7920\n",
      "Epoch 23/50, Train Loss: 1.2045, Val Loss: 1.7647\n",
      "Epoch 24/50, Train Loss: 1.0813, Val Loss: 2.3900\n",
      "Epoch 25/50, Train Loss: 0.9682, Val Loss: 1.2838\n",
      "Epoch 26/50, Train Loss: 0.8374, Val Loss: 2.0882\n",
      "Epoch 27/50, Train Loss: 0.8135, Val Loss: 1.2761\n",
      "Epoch 28/50, Train Loss: 0.6738, Val Loss: 1.2971\n",
      "Epoch 29/50, Train Loss: 0.6706, Val Loss: 1.4024\n",
      "Epoch 30/50, Train Loss: 0.5472, Val Loss: 1.4217\n",
      "Epoch 31/50, Train Loss: 0.4886, Val Loss: 1.3669\n",
      "Epoch 32/50, Train Loss: 0.4988, Val Loss: 1.0182\n",
      "Epoch 33/50, Train Loss: 0.3976, Val Loss: 1.4284\n",
      "Epoch 34/50, Train Loss: 0.3780, Val Loss: 1.4943\n",
      "Epoch 35/50, Train Loss: 0.2528, Val Loss: 1.1395\n",
      "Epoch 36/50, Train Loss: 0.3509, Val Loss: 1.8263\n"
     ]
    },
    {
     "name": "stderr",
     "output_type": "stream",
     "text": [
      "[I 2024-09-14 18:18:59,673] Trial 48 finished with value: 0.36986303329467773 and parameters: {'lr': 0.06537749353586599, 'batch_size': 32, 'weight_decay': 4.68773187498937e-05}. Best is trial 39 with value: 0.938356164842844.\n"
     ]
    },
    {
     "name": "stdout",
     "output_type": "stream",
     "text": [
      "Epoch 37/50, Train Loss: 0.3359, Val Loss: 1.3645\n",
      "Early stopping triggered after 37 epochs\n",
      "Training complete\n",
      "Accuracy: 0.6301\n",
      "F1 Score: 0.5764\n",
      "Epoch 1/50, Train Loss: 2.8588, Val Loss: 44.1913\n",
      "Epoch 2/50, Train Loss: 2.4074, Val Loss: 2.5182\n",
      "Epoch 3/50, Train Loss: 2.3293, Val Loss: 2.4211\n",
      "Epoch 4/50, Train Loss: 2.2777, Val Loss: 2.2793\n",
      "Epoch 5/50, Train Loss: 2.2584, Val Loss: 2.2222\n",
      "Epoch 6/50, Train Loss: 2.2394, Val Loss: 2.1012\n",
      "Epoch 7/50, Train Loss: 2.2588, Val Loss: 2.2226\n",
      "Epoch 8/50, Train Loss: 2.2102, Val Loss: 2.3077\n",
      "Epoch 9/50, Train Loss: 2.1423, Val Loss: 2.1839\n",
      "Epoch 10/50, Train Loss: 1.9920, Val Loss: 2.0470\n",
      "Epoch 11/50, Train Loss: 1.9706, Val Loss: 2.2980\n",
      "Epoch 12/50, Train Loss: 2.0439, Val Loss: 2.2626\n",
      "Epoch 13/50, Train Loss: 1.8355, Val Loss: 2.0996\n",
      "Epoch 14/50, Train Loss: 1.7166, Val Loss: 2.3367\n",
      "Epoch 15/50, Train Loss: 1.6893, Val Loss: 1.9351\n",
      "Epoch 16/50, Train Loss: 1.5100, Val Loss: 1.6779\n",
      "Epoch 17/50, Train Loss: 1.2620, Val Loss: 1.7489\n",
      "Epoch 18/50, Train Loss: 1.2815, Val Loss: 1.8824\n",
      "Epoch 19/50, Train Loss: 1.2530, Val Loss: 1.5618\n",
      "Epoch 20/50, Train Loss: 1.0316, Val Loss: 2.6255\n",
      "Epoch 21/50, Train Loss: 0.9093, Val Loss: 1.7042\n",
      "Epoch 22/50, Train Loss: 0.7721, Val Loss: 1.4874\n",
      "Epoch 23/50, Train Loss: 0.5838, Val Loss: 1.6104\n",
      "Epoch 24/50, Train Loss: 0.5649, Val Loss: 1.2286\n",
      "Epoch 25/50, Train Loss: 0.4797, Val Loss: 1.4680\n",
      "Epoch 26/50, Train Loss: 0.3964, Val Loss: 1.6058\n",
      "Epoch 27/50, Train Loss: 0.5491, Val Loss: 1.6894\n",
      "Epoch 28/50, Train Loss: 0.3286, Val Loss: 1.2727\n",
      "Epoch 29/50, Train Loss: 0.2235, Val Loss: 1.1192\n",
      "Epoch 30/50, Train Loss: 0.2211, Val Loss: 1.0854\n",
      "Epoch 31/50, Train Loss: 0.1980, Val Loss: 0.9078\n",
      "Epoch 32/50, Train Loss: 0.2218, Val Loss: 0.8125\n",
      "Epoch 33/50, Train Loss: 0.0966, Val Loss: 0.6980\n",
      "Epoch 34/50, Train Loss: 0.0315, Val Loss: 0.8484\n",
      "Epoch 35/50, Train Loss: 0.0227, Val Loss: 0.6769\n",
      "Epoch 36/50, Train Loss: 0.0194, Val Loss: 0.8859\n",
      "Epoch 37/50, Train Loss: 0.0119, Val Loss: 0.6858\n",
      "Epoch 38/50, Train Loss: 0.0060, Val Loss: 0.8030\n",
      "Epoch 39/50, Train Loss: 0.0243, Val Loss: 0.8134\n"
     ]
    },
    {
     "name": "stderr",
     "output_type": "stream",
     "text": [
      "[I 2024-09-14 18:20:28,346] Trial 49 finished with value: 0.11643832921981812 and parameters: {'lr': 0.006329542069221441, 'batch_size': 64, 'weight_decay': 0.00021792124993671002}. Best is trial 39 with value: 0.938356164842844.\n"
     ]
    },
    {
     "name": "stdout",
     "output_type": "stream",
     "text": [
      "Epoch 40/50, Train Loss: 0.0143, Val Loss: 0.9274\n",
      "Early stopping triggered after 40 epochs\n",
      "Training complete\n",
      "Accuracy: 0.8836\n",
      "F1 Score: 0.8240\n",
      "Best hyperparameters:  {'lr': 0.012653947233242485, 'batch_size': 64, 'weight_decay': 0.0005945715958985451}\n",
      "Best value:  0.938356164842844\n"
     ]
    }
   ],
   "source": [
    "study = optuna.create_study(direction='maximize')  # We are maximizing accuracy\n",
    "study.optimize(objective, n_trials=50)  # Number of trials to perform\n",
    "\n",
    "print('Best hyperparameters: ', study.best_params)\n",
    "print('Best value: ', study.best_value)"
   ]
  },
  {
   "cell_type": "markdown",
   "id": "aeb3b5ed-af0c-4384-b621-2294a081bc65",
   "metadata": {},
   "source": [
    "## Results"
   ]
  },
  {
   "cell_type": "markdown",
   "id": "33a55879-7db7-48b1-9bf3-19f98d2922fd",
   "metadata": {},
   "source": [
    "```\n",
    "Best hyperparameters:  {'lr': 0.012653947233242485, 'batch_size': 64, 'weight_decay': 0.0005945715958985451}\n",
    "Best value:  0.938356164842844\n",
    "```"
   ]
  }
 ],
 "metadata": {
  "kernelspec": {
   "display_name": "Python 3 (ipykernel)",
   "language": "python",
   "name": "python3"
  },
  "language_info": {
   "codemirror_mode": {
    "name": "ipython",
    "version": 3
   },
   "file_extension": ".py",
   "mimetype": "text/x-python",
   "name": "python",
   "nbconvert_exporter": "python",
   "pygments_lexer": "ipython3",
   "version": "3.8.19"
  }
 },
 "nbformat": 4,
 "nbformat_minor": 5
}
